{
 "cells": [
  {
   "cell_type": "code",
   "execution_count": 3,
   "id": "initial_id",
   "metadata": {
    "collapsed": true,
    "ExecuteTime": {
     "end_time": "2024-01-04T11:00:26.265197854Z",
     "start_time": "2024-01-04T11:00:25.292392062Z"
    }
   },
   "outputs": [
    {
     "name": "stderr",
     "output_type": "stream",
     "text": [
      "[nltk_data] Downloading package punkt to /home/francesco/nltk_data...\n",
      "[nltk_data]   Package punkt is already up-to-date!\n",
      "[nltk_data] Downloading package averaged_perceptron_tagger to\n",
      "[nltk_data]     /home/francesco/nltk_data...\n",
      "[nltk_data]   Package averaged_perceptron_tagger is already up-to-\n",
      "[nltk_data]       date!\n",
      "[nltk_data] Downloading package wordnet to\n",
      "[nltk_data]     /home/francesco/nltk_data...\n",
      "[nltk_data]   Package wordnet is already up-to-date!\n",
      "[nltk_data] Downloading package stopwords to\n",
      "[nltk_data]     /home/francesco/nltk_data...\n",
      "[nltk_data]   Package stopwords is already up-to-date!\n"
     ]
    }
   ],
   "source": [
    "import pandas as pd\n",
    "import numpy as np\n",
    "import os\n",
    "from tqdm import tqdm\n",
    "\n",
    "#for text pre-processing\n",
    "import re, string\n",
    "import nltk\n",
    "from nltk.tokenize import word_tokenize\n",
    "from nltk.corpus import stopwords\n",
    "from nltk.tokenize import word_tokenize\n",
    "from nltk.stem import SnowballStemmer\n",
    "from nltk.corpus import wordnet\n",
    "from nltk.stem import WordNetLemmatizer\n",
    "\n",
    "nltk.download('punkt')\n",
    "nltk.download('averaged_perceptron_tagger')\n",
    "nltk.download('wordnet')\n",
    "nltk.download('stopwords')\n",
    "\n",
    "#for model-building\n",
    "from sklearn.model_selection import train_test_split\n",
    "from sklearn.linear_model import LogisticRegression\n",
    "from sklearn.naive_bayes import MultinomialNB\n",
    "from sklearn.metrics import classification_report, f1_score, accuracy_score, confusion_matrix\n",
    "from sklearn.metrics import roc_curve, auc, roc_auc_score\n",
    "\n",
    "\n",
    "# bag of words\n",
    "from sklearn.feature_extraction.text import TfidfVectorizer\n",
    "from sklearn.feature_extraction.text import CountVectorizer#for word embedding\n",
    "import gensim\n",
    "from gensim.models import Word2Vec"
   ]
  },
  {
   "cell_type": "code",
   "execution_count": 14,
   "outputs": [
    {
     "name": "stderr",
     "output_type": "stream",
     "text": [
      "/tmp/ipykernel_78326/1248792684.py:1: DtypeWarning: Columns (0,1,5,11,16,17,24) have mixed types. Specify dtype option on import or set low_memory=False.\n",
      "  data = pd.read_csv('network_tweets.csv')\n"
     ]
    },
    {
     "name": "stdout",
     "output_type": "stream",
     "text": [
      "<class 'pandas.core.frame.DataFrame'>\n",
      "RangeIndex: 394355 entries, 0 to 394354\n",
      "Data columns (total 29 columns):\n",
      " #   Column                   Non-Null Count   Dtype  \n",
      "---  ------                   --------------   -----  \n",
      " 0   Unnamed: 0               394355 non-null  object \n",
      " 1   userid                   394329 non-null  object \n",
      " 2   username                 394329 non-null  object \n",
      " 3   acctdesc                 359051 non-null  object \n",
      " 4   location                 254714 non-null  object \n",
      " 5   following                394329 non-null  object \n",
      " 6   followers                394329 non-null  float64\n",
      " 7   totaltweets              394329 non-null  float64\n",
      " 8   usercreatedts            394313 non-null  object \n",
      " 9   tweetid                  394329 non-null  float64\n",
      " 10  tweetcreatedts           394329 non-null  object \n",
      " 11  retweetcount             394326 non-null  object \n",
      " 12  text                     394329 non-null  object \n",
      " 13  hashtags                 394310 non-null  object \n",
      " 14  language                 394310 non-null  object \n",
      " 15  coordinates              103 non-null     object \n",
      " 16  favorite_count           394310 non-null  object \n",
      " 17  is_retweet               394291 non-null  object \n",
      " 18  original_tweet_id        394291 non-null  float64\n",
      " 19  original_tweet_userid    394291 non-null  float64\n",
      " 20  original_tweet_username  228557 non-null  object \n",
      " 21  in_reply_to_status_id    394291 non-null  float64\n",
      " 22  in_reply_to_user_id      394291 non-null  float64\n",
      " 23  in_reply_to_screen_name  47505 non-null   object \n",
      " 24  is_quote_status          394291 non-null  object \n",
      " 25  quoted_status_id         394291 non-null  float64\n",
      " 26  quoted_status_userid     394291 non-null  float64\n",
      " 27  quoted_status_username   36385 non-null   object \n",
      " 28  extractedts              394291 non-null  object \n",
      "dtypes: float64(9), object(20)\n",
      "memory usage: 87.3+ MB\n"
     ]
    }
   ],
   "source": [
    "data = pd.read_csv('network_tweets.csv')\n",
    "# check dtypes\n",
    "data.info()"
   ],
   "metadata": {
    "collapsed": false,
    "ExecuteTime": {
     "end_time": "2024-01-04T12:59:07.970634980Z",
     "start_time": "2024-01-04T12:59:04.894891379Z"
    }
   },
   "id": "94f853e43a5a495f"
  },
  {
   "cell_type": "code",
   "execution_count": 15,
   "outputs": [
    {
     "data": {
      "text/plain": "  Unnamed: 0               userid         username  \\\n0          6             77538832            bn880   \n1         33             14027452    hardknoxfirst   \n2         40  1438291651135344640       wediyalula   \n3         50            969040753  FreedomHonor666   \n4         53           1832502638       eveemars87   \n\n                                            acctdesc  \\\n0  Putin has made a huge mistake, he is about to ...   \n1  Liberal, supports law enforcement, guitarist, ...   \n2                                       Truth things   \n3  Let's talk truly about any struggle in the wor...   \n4  Can´t stand injustices  #SlavaUkraini #ArmUkra...   \n\n                        location following  followers  totaltweets  \\\n0                         Canada       116      210.0      13236.0   \n1  Columbus native, SE Ohio now.      5586     6826.0     559945.0   \n2                            NaN      4917     4779.0      81263.0   \n3                       Universe      1468      854.0       6603.0   \n4                         lisboa       204      245.0      43849.0   \n\n         usercreatedts       tweetid  ... original_tweet_userid  \\\n0  2009-09-26 18:22:00  1.520916e+18  ...          1.370616e+18   \n1  2008-02-26 21:00:11  1.520916e+18  ...          0.000000e+00   \n2  2021-09-16 00:00:40  1.520916e+18  ...          1.503409e+18   \n3  2012-11-25 00:03:01  1.520916e+18  ...          2.758100e+09   \n4  2013-09-08 18:02:23  1.520916e+18  ...          0.000000e+00   \n\n  original_tweet_username in_reply_to_status_id in_reply_to_user_id  \\\n0             Blue_Sauron          0.000000e+00        0.000000e+00   \n1                     NaN          0.000000e+00        0.000000e+00   \n2           TigrayKwgehEu          0.000000e+00        0.000000e+00   \n3            GlasnostGone          0.000000e+00        0.000000e+00   \n4                     NaN          1.520499e+18        2.659312e+09   \n\n  in_reply_to_screen_name is_quote_status quoted_status_id  \\\n0                     NaN           False              0.0   \n1                     NaN           False              0.0   \n2                     NaN           False              0.0   \n3                     NaN           False              0.0   \n4                 irmi449           False              0.0   \n\n  quoted_status_userid  quoted_status_username                 extractedts  \n0                  0.0                     NaN  2022-05-02 00:25:56.066862  \n1                  0.0                     NaN  2022-05-02 00:28:46.193536  \n2                  0.0                     NaN  2022-05-02 00:25:55.095644  \n3                  0.0                     NaN  2022-05-02 00:25:54.986379  \n4                  0.0                     NaN  2022-05-02 05:14:31.916005  \n\n[5 rows x 29 columns]",
      "text/html": "<div>\n<style scoped>\n    .dataframe tbody tr th:only-of-type {\n        vertical-align: middle;\n    }\n\n    .dataframe tbody tr th {\n        vertical-align: top;\n    }\n\n    .dataframe thead th {\n        text-align: right;\n    }\n</style>\n<table border=\"1\" class=\"dataframe\">\n  <thead>\n    <tr style=\"text-align: right;\">\n      <th></th>\n      <th>Unnamed: 0</th>\n      <th>userid</th>\n      <th>username</th>\n      <th>acctdesc</th>\n      <th>location</th>\n      <th>following</th>\n      <th>followers</th>\n      <th>totaltweets</th>\n      <th>usercreatedts</th>\n      <th>tweetid</th>\n      <th>...</th>\n      <th>original_tweet_userid</th>\n      <th>original_tweet_username</th>\n      <th>in_reply_to_status_id</th>\n      <th>in_reply_to_user_id</th>\n      <th>in_reply_to_screen_name</th>\n      <th>is_quote_status</th>\n      <th>quoted_status_id</th>\n      <th>quoted_status_userid</th>\n      <th>quoted_status_username</th>\n      <th>extractedts</th>\n    </tr>\n  </thead>\n  <tbody>\n    <tr>\n      <th>0</th>\n      <td>6</td>\n      <td>77538832</td>\n      <td>bn880</td>\n      <td>Putin has made a huge mistake, he is about to ...</td>\n      <td>Canada</td>\n      <td>116</td>\n      <td>210.0</td>\n      <td>13236.0</td>\n      <td>2009-09-26 18:22:00</td>\n      <td>1.520916e+18</td>\n      <td>...</td>\n      <td>1.370616e+18</td>\n      <td>Blue_Sauron</td>\n      <td>0.000000e+00</td>\n      <td>0.000000e+00</td>\n      <td>NaN</td>\n      <td>False</td>\n      <td>0.0</td>\n      <td>0.0</td>\n      <td>NaN</td>\n      <td>2022-05-02 00:25:56.066862</td>\n    </tr>\n    <tr>\n      <th>1</th>\n      <td>33</td>\n      <td>14027452</td>\n      <td>hardknoxfirst</td>\n      <td>Liberal, supports law enforcement, guitarist, ...</td>\n      <td>Columbus native, SE Ohio now.</td>\n      <td>5586</td>\n      <td>6826.0</td>\n      <td>559945.0</td>\n      <td>2008-02-26 21:00:11</td>\n      <td>1.520916e+18</td>\n      <td>...</td>\n      <td>0.000000e+00</td>\n      <td>NaN</td>\n      <td>0.000000e+00</td>\n      <td>0.000000e+00</td>\n      <td>NaN</td>\n      <td>False</td>\n      <td>0.0</td>\n      <td>0.0</td>\n      <td>NaN</td>\n      <td>2022-05-02 00:28:46.193536</td>\n    </tr>\n    <tr>\n      <th>2</th>\n      <td>40</td>\n      <td>1438291651135344640</td>\n      <td>wediyalula</td>\n      <td>Truth things</td>\n      <td>NaN</td>\n      <td>4917</td>\n      <td>4779.0</td>\n      <td>81263.0</td>\n      <td>2021-09-16 00:00:40</td>\n      <td>1.520916e+18</td>\n      <td>...</td>\n      <td>1.503409e+18</td>\n      <td>TigrayKwgehEu</td>\n      <td>0.000000e+00</td>\n      <td>0.000000e+00</td>\n      <td>NaN</td>\n      <td>False</td>\n      <td>0.0</td>\n      <td>0.0</td>\n      <td>NaN</td>\n      <td>2022-05-02 00:25:55.095644</td>\n    </tr>\n    <tr>\n      <th>3</th>\n      <td>50</td>\n      <td>969040753</td>\n      <td>FreedomHonor666</td>\n      <td>Let's talk truly about any struggle in the wor...</td>\n      <td>Universe</td>\n      <td>1468</td>\n      <td>854.0</td>\n      <td>6603.0</td>\n      <td>2012-11-25 00:03:01</td>\n      <td>1.520916e+18</td>\n      <td>...</td>\n      <td>2.758100e+09</td>\n      <td>GlasnostGone</td>\n      <td>0.000000e+00</td>\n      <td>0.000000e+00</td>\n      <td>NaN</td>\n      <td>False</td>\n      <td>0.0</td>\n      <td>0.0</td>\n      <td>NaN</td>\n      <td>2022-05-02 00:25:54.986379</td>\n    </tr>\n    <tr>\n      <th>4</th>\n      <td>53</td>\n      <td>1832502638</td>\n      <td>eveemars87</td>\n      <td>Can´t stand injustices  #SlavaUkraini #ArmUkra...</td>\n      <td>lisboa</td>\n      <td>204</td>\n      <td>245.0</td>\n      <td>43849.0</td>\n      <td>2013-09-08 18:02:23</td>\n      <td>1.520916e+18</td>\n      <td>...</td>\n      <td>0.000000e+00</td>\n      <td>NaN</td>\n      <td>1.520499e+18</td>\n      <td>2.659312e+09</td>\n      <td>irmi449</td>\n      <td>False</td>\n      <td>0.0</td>\n      <td>0.0</td>\n      <td>NaN</td>\n      <td>2022-05-02 05:14:31.916005</td>\n    </tr>\n  </tbody>\n</table>\n<p>5 rows × 29 columns</p>\n</div>"
     },
     "execution_count": 15,
     "metadata": {},
     "output_type": "execute_result"
    }
   ],
   "source": [
    "data.head()"
   ],
   "metadata": {
    "collapsed": false,
    "ExecuteTime": {
     "end_time": "2024-01-04T12:59:09.145073075Z",
     "start_time": "2024-01-04T12:59:09.123627872Z"
    }
   },
   "id": "907d0264536e66c3"
  },
  {
   "cell_type": "code",
   "execution_count": 16,
   "outputs": [
    {
     "name": "stdout",
     "output_type": "stream",
     "text": [
      "<class 'pandas.core.frame.DataFrame'>\n",
      "Index: 394291 entries, 0 to 394354\n",
      "Data columns (total 6 columns):\n",
      " #   Column          Non-Null Count   Dtype  \n",
      "---  ------          --------------   -----  \n",
      " 0   tweetid         394291 non-null  float64\n",
      " 1   tweetcreatedts  394291 non-null  object \n",
      " 2   language        394291 non-null  object \n",
      " 3   location        254678 non-null  object \n",
      " 4   text            394291 non-null  object \n",
      " 5   hashtags        394291 non-null  object \n",
      "dtypes: float64(1), object(5)\n",
      "memory usage: 21.1+ MB\n"
     ]
    }
   ],
   "source": [
    "data = data[['tweetid', 'tweetcreatedts', 'language', 'location', 'text', 'hashtags']]\n",
    "data = data[data['language'] == 'en']\n",
    "\n",
    "# data = data.head(10000)\n",
    "data.info()"
   ],
   "metadata": {
    "collapsed": false,
    "ExecuteTime": {
     "end_time": "2024-01-04T12:59:12.038033287Z",
     "start_time": "2024-01-04T12:59:11.881383180Z"
    }
   },
   "id": "bf310998fba58521"
  },
  {
   "cell_type": "code",
   "execution_count": 17,
   "outputs": [],
   "source": [
    "# import these modules\n",
    "from nltk.stem import PorterStemmer\n",
    "from nltk.tokenize import word_tokenize\n",
    "\n",
    "ps = PorterStemmer()\n",
    "\n",
    "#convert to lowercase, strip and remove punctuations\n",
    "def preprocess(text):\n",
    "    text = text.lower() \n",
    "    text=text.strip()  \n",
    "    text=re.compile('<.*?>').sub('', text) \n",
    "    text = re.sub(r'http\\S+', ' ', text)\n",
    "    text = re.sub(r'&', 'and', text)\n",
    "    text = re.compile('[%s]' % re.escape(string.punctuation)).sub(' ', text)  \n",
    "    text = re.sub('\\s+', ' ', text)  \n",
    "    text = re.sub(r't\\.co\\S+', ' ', text)\n",
    "    text = re.sub(r'\\[[0-9]*\\]',' ',text) \n",
    "    text = re.sub(r'[^\\w\\s]', '', str(text).lower().strip())\n",
    "    text = re.sub(r'\\d',' ',text) \n",
    "    text = re.sub(r'\\s+',' ',text) \n",
    "    text = ps.stem(text)\n",
    "    return text\n",
    " \n",
    "# STOPWORD REMOVAL\n",
    "def stopword(string):\n",
    "    a= [i for i in string.split() if i not in stopwords.words('english')]\n",
    "    return ' '.join(a)#LEMMATIZATION\n",
    "# Initialize the lemmatizer\n",
    "wl = WordNetLemmatizer()\n",
    " \n",
    "# This is a helper function to map NTLK position tags\n",
    "def get_wordnet_pos(tag):\n",
    "    if tag.startswith('J'):\n",
    "        return wordnet.ADJ\n",
    "    elif tag.startswith('V'):\n",
    "        return wordnet.VERB\n",
    "    elif tag.startswith('N'):\n",
    "        return wordnet.NOUN\n",
    "    elif tag.startswith('R'):\n",
    "        return wordnet.ADV\n",
    "    else:\n",
    "        return wordnet.NOUN# Tokenize the sentence\n",
    "def lemmatizer(string):\n",
    "    word_pos_tags = nltk.pos_tag(word_tokenize(string)) # Get position tags\n",
    "    a=[wl.lemmatize(tag[0], get_wordnet_pos(tag[1])) for idx, tag in enumerate(word_pos_tags)] # Map the position tag and lemmatize the word/token\n",
    "    return \" \".join(a)\n"
   ],
   "metadata": {
    "collapsed": false,
    "ExecuteTime": {
     "end_time": "2024-01-04T12:59:13.357785287Z",
     "start_time": "2024-01-04T12:59:13.351515568Z"
    }
   },
   "id": "78ced2e77451b7e9"
  },
  {
   "cell_type": "code",
   "execution_count": 18,
   "outputs": [
    {
     "data": {
      "text/plain": "        tweetid       tweetcreatedts language                       location  \\\n0  1.520916e+18  2022-05-02 00:00:01       en                         Canada   \n1  1.520916e+18  2022-05-02 00:00:06       en  Columbus native, SE Ohio now.   \n2  1.520916e+18  2022-05-02 00:00:09       en                            NaN   \n3  1.520916e+18  2022-05-02 00:00:11       en                       Universe   \n4  1.520916e+18  2022-05-02 00:00:11       en                         lisboa   \n\n                                                text  \\\n0  📸 Russian MANPADS shot missed its target, pict...   \n1  No, no, Noam &gt; Chomsky Calls Trump the 'One...   \n2  The absence of compassion from the Int'l Commu...   \n3  R.I.P Scott and thank you. A British national ...   \n4  @irmi449 @OksanaUkka 💔💔😢😢Russia stole their in...   \n\n                                          hashtags  \\\n0                                               []   \n1     [{'text': 'Ukraine', 'indices': [111, 119]}]   \n2       [{'text': 'Tigray', 'indices': [95, 102]}]   \n3       [{'text': 'Ukraine', 'indices': [83, 91]}]   \n4  [{'text': 'SlavaUkraini', 'indices': [75, 88]}]   \n\n                                          clean_text  \n0  russian manpad shot miss target pictured ukrai...  \n1  noam andgt chomsky call trump one western stat...  \n2  absence compassion int l community towards suf...  \n3  r p scott thank british national kill ukraine ...  \n4  irmi oksanaukka russia stole innocence pay sla...  ",
      "text/html": "<div>\n<style scoped>\n    .dataframe tbody tr th:only-of-type {\n        vertical-align: middle;\n    }\n\n    .dataframe tbody tr th {\n        vertical-align: top;\n    }\n\n    .dataframe thead th {\n        text-align: right;\n    }\n</style>\n<table border=\"1\" class=\"dataframe\">\n  <thead>\n    <tr style=\"text-align: right;\">\n      <th></th>\n      <th>tweetid</th>\n      <th>tweetcreatedts</th>\n      <th>language</th>\n      <th>location</th>\n      <th>text</th>\n      <th>hashtags</th>\n      <th>clean_text</th>\n    </tr>\n  </thead>\n  <tbody>\n    <tr>\n      <th>0</th>\n      <td>1.520916e+18</td>\n      <td>2022-05-02 00:00:01</td>\n      <td>en</td>\n      <td>Canada</td>\n      <td>📸 Russian MANPADS shot missed its target, pict...</td>\n      <td>[]</td>\n      <td>russian manpad shot miss target pictured ukrai...</td>\n    </tr>\n    <tr>\n      <th>1</th>\n      <td>1.520916e+18</td>\n      <td>2022-05-02 00:00:06</td>\n      <td>en</td>\n      <td>Columbus native, SE Ohio now.</td>\n      <td>No, no, Noam &amp;gt; Chomsky Calls Trump the 'One...</td>\n      <td>[{'text': 'Ukraine', 'indices': [111, 119]}]</td>\n      <td>noam andgt chomsky call trump one western stat...</td>\n    </tr>\n    <tr>\n      <th>2</th>\n      <td>1.520916e+18</td>\n      <td>2022-05-02 00:00:09</td>\n      <td>en</td>\n      <td>NaN</td>\n      <td>The absence of compassion from the Int'l Commu...</td>\n      <td>[{'text': 'Tigray', 'indices': [95, 102]}]</td>\n      <td>absence compassion int l community towards suf...</td>\n    </tr>\n    <tr>\n      <th>3</th>\n      <td>1.520916e+18</td>\n      <td>2022-05-02 00:00:11</td>\n      <td>en</td>\n      <td>Universe</td>\n      <td>R.I.P Scott and thank you. A British national ...</td>\n      <td>[{'text': 'Ukraine', 'indices': [83, 91]}]</td>\n      <td>r p scott thank british national kill ukraine ...</td>\n    </tr>\n    <tr>\n      <th>4</th>\n      <td>1.520916e+18</td>\n      <td>2022-05-02 00:00:11</td>\n      <td>en</td>\n      <td>lisboa</td>\n      <td>@irmi449 @OksanaUkka 💔💔😢😢Russia stole their in...</td>\n      <td>[{'text': 'SlavaUkraini', 'indices': [75, 88]}]</td>\n      <td>irmi oksanaukka russia stole innocence pay sla...</td>\n    </tr>\n  </tbody>\n</table>\n</div>"
     },
     "execution_count": 18,
     "metadata": {},
     "output_type": "execute_result"
    }
   ],
   "source": [
    "def finalpreprocess(string):\n",
    "    return lemmatizer(stopword(preprocess(string)))\n",
    "    \n",
    "data['clean_text'] = data['text'].apply(lambda x: finalpreprocess(x))\n",
    "data.head()"
   ],
   "metadata": {
    "collapsed": false,
    "ExecuteTime": {
     "end_time": "2024-01-04T13:15:42.759500853Z",
     "start_time": "2024-01-04T12:59:15.621248374Z"
    }
   },
   "id": "e4fa0268a004e0f4"
  },
  {
   "cell_type": "code",
   "execution_count": 19,
   "outputs": [
    {
     "name": "stderr",
     "output_type": "stream",
     "text": [
      "/home/francesco/anaconda3/envs/NLP3/lib/python3.10/site-packages/pyarrow/pandas_compat.py:373: FutureWarning: is_sparse is deprecated and will be removed in a future version. Check `isinstance(dtype, pd.SparseDtype)` instead.\n",
      "  if _pandas_api.is_sparse(col):\n"
     ]
    }
   ],
   "source": [
    "data.to_parquet('testset.parquet.gzip', compression='gzip')"
   ],
   "metadata": {
    "collapsed": false,
    "ExecuteTime": {
     "end_time": "2024-01-04T13:15:50.910091036Z",
     "start_time": "2024-01-04T13:15:42.682092036Z"
    }
   },
   "id": "4a782b2cd7adabb3"
  },
  {
   "cell_type": "code",
   "outputs": [],
   "source": [
    " "
   ],
   "metadata": {
    "collapsed": false
   },
   "id": "c7857fc34e734bc4"
  }
 ],
 "metadata": {
  "kernelspec": {
   "display_name": "Python 3",
   "language": "python",
   "name": "python3"
  },
  "language_info": {
   "codemirror_mode": {
    "name": "ipython",
    "version": 2
   },
   "file_extension": ".py",
   "mimetype": "text/x-python",
   "name": "python",
   "nbconvert_exporter": "python",
   "pygments_lexer": "ipython2",
   "version": "2.7.6"
  }
 },
 "nbformat": 4,
 "nbformat_minor": 5
}
