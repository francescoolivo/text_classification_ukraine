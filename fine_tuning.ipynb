{
 "cells": [
  {
   "cell_type": "code",
   "execution_count": 1,
   "id": "initial_id",
   "metadata": {
    "collapsed": true,
    "ExecuteTime": {
     "end_time": "2024-01-04T13:27:35.558242744Z",
     "start_time": "2024-01-04T13:27:35.007967594Z"
    }
   },
   "outputs": [
    {
     "name": "stderr",
     "output_type": "stream",
     "text": [
      "[nltk_data] Downloading package punkt to /home/francesco/nltk_data...\n",
      "[nltk_data]   Package punkt is already up-to-date!\n",
      "[nltk_data] Downloading package averaged_perceptron_tagger to\n",
      "[nltk_data]     /home/francesco/nltk_data...\n",
      "[nltk_data]   Package averaged_perceptron_tagger is already up-to-\n",
      "[nltk_data]       date!\n",
      "[nltk_data] Downloading package wordnet to\n",
      "[nltk_data]     /home/francesco/nltk_data...\n",
      "[nltk_data]   Package wordnet is already up-to-date!\n",
      "[nltk_data] Downloading package stopwords to\n",
      "[nltk_data]     /home/francesco/nltk_data...\n",
      "[nltk_data]   Package stopwords is already up-to-date!\n"
     ]
    }
   ],
   "source": [
    "import pandas as pd\n",
    "import numpy as np\n",
    "import os\n",
    "from tqdm import tqdm\n",
    "\n",
    "#for text pre-processing\n",
    "import re, string\n",
    "import nltk\n",
    "from nltk.tokenize import word_tokenize\n",
    "from nltk.corpus import stopwords\n",
    "from nltk.tokenize import word_tokenize\n",
    "from nltk.stem import SnowballStemmer\n",
    "from nltk.corpus import wordnet\n",
    "from nltk.stem import WordNetLemmatizer\n",
    "\n",
    "nltk.download('punkt')\n",
    "nltk.download('averaged_perceptron_tagger')\n",
    "nltk.download('wordnet')\n",
    "nltk.download('stopwords')\n",
    "\n",
    "#for model-building\n",
    "from sklearn.model_selection import train_test_split\n",
    "from sklearn.linear_model import LogisticRegression\n",
    "from sklearn.naive_bayes import MultinomialNB\n",
    "from sklearn.metrics import classification_report, f1_score, accuracy_score, confusion_matrix\n",
    "from sklearn.metrics import roc_curve, auc, roc_auc_score\n",
    "\n",
    "\n",
    "# bag of words\n",
    "from sklearn.feature_extraction.text import TfidfVectorizer\n",
    "from sklearn.feature_extraction.text import CountVectorizer#for word embedding\n",
    "# import gensim\n",
    "# from gensim.models import Word2Vec"
   ]
  },
  {
   "cell_type": "code",
   "execution_count": 2,
   "outputs": [],
   "source": [
    "from nltk.stem import PorterStemmer\n",
    "from nltk.tokenize import word_tokenize\n",
    "\n",
    "ps = PorterStemmer()\n",
    "\n",
    "#convert to lowercase, strip and remove punctuations\n",
    "def preprocess(text):\n",
    "    text = text.lower() \n",
    "    text=text.strip()  \n",
    "    text=re.compile('<.*?>').sub('', text) \n",
    "    text = re.sub(r'http\\S+', ' ', text)\n",
    "    text = re.sub(r'&', 'and', text)\n",
    "    text = re.compile('[%s]' % re.escape(string.punctuation)).sub(' ', text)  \n",
    "    text = re.sub('\\s+', ' ', text)  \n",
    "    text = re.sub(r't\\.co\\S+', ' ', text)\n",
    "    text = re.sub(r'\\[[0-9]*\\]',' ',text) \n",
    "    text = re.sub(r'[^\\w\\s]', '', str(text).lower().strip())\n",
    "    text = re.sub(r'\\d',' ',text) \n",
    "    text = re.sub(r'\\s+',' ',text) \n",
    "    text = ps.stem(text)\n",
    "    return text\n",
    " \n",
    "# STOPWORD REMOVAL\n",
    "def stopword(string):\n",
    "    a= [i for i in string.split() if i not in stopwords.words('english')]\n",
    "    return ' '.join(a)#LEMMATIZATION\n",
    "# Initialize the lemmatizer\n",
    "wl = WordNetLemmatizer()\n",
    " \n",
    "# This is a helper function to map NTLK position tags\n",
    "def get_wordnet_pos(tag):\n",
    "    if tag.startswith('J'):\n",
    "        return wordnet.ADJ\n",
    "    elif tag.startswith('V'):\n",
    "        return wordnet.VERB\n",
    "    elif tag.startswith('N'):\n",
    "        return wordnet.NOUN\n",
    "    elif tag.startswith('R'):\n",
    "        return wordnet.ADV\n",
    "    else:\n",
    "        return wordnet.NOUN# Tokenize the sentence\n",
    "def lemmatizer(string):\n",
    "    word_pos_tags = nltk.pos_tag(word_tokenize(string)) # Get position tags\n",
    "    a=[wl.lemmatize(tag[0], get_wordnet_pos(tag[1])) for idx, tag in enumerate(word_pos_tags)] # Map the position tag and lemmatize the word/token\n",
    "    return \" \".join(a)\n"
   ],
   "metadata": {
    "collapsed": false,
    "ExecuteTime": {
     "end_time": "2024-01-04T09:34:40.024906163Z",
     "start_time": "2024-01-04T09:34:40.023266320Z"
    }
   },
   "id": "bd1a11f57a0f5e85"
  },
  {
   "cell_type": "code",
   "execution_count": 3,
   "outputs": [
    {
     "data": {
      "text/plain": "                    tweetid tweetcreatedts language               location  \\\n149212  1498447926531887104     2022-03-01       en                   None   \n149213  1498447927009693697     2022-03-01       en                  India   \n149214  1498447927022264320     2022-03-01       en                  Texas   \n149216  1498447927622176768     2022-03-01       en  Stoney Creek, Ontario   \n149218  1498447928033165317     2022-03-01       en                   None   \n\n                                                     text  \\\n149212  It’s all a game and anonymous cowards are runn...   \n149213  .@peta urges government to rescue student alon...   \n149214  Instead of talking about how to save lives in ...   \n149216  Moscow underground. Sometimes the act of resis...   \n149218  When you know physics and geo-politics! #Ukrai...   \n\n                                                 hashtags  \\\n149212  [{'text': 'coronavirus', 'indices': [78, 90]},...   \n149213  [{'text': 'UkraineRussiaWar', 'indices': [80, ...   \n149214         [{'text': 'Ukraine', 'indices': [46, 54]}]   \n149216       [{'text': 'Ukraine', 'indices': [122, 130]}]   \n149218         [{'text': 'Ukraine', 'indices': [61, 69]}]   \n\n                                               clean_text  \n149212  game anonymous coward run show behind curtain ...  \n149213  peta urges government rescue student along com...  \n149214  instead talk save life ukraine senate democrat...  \n149216  moscow underground sometimes act resistance do...  \n149218                    know physic geo politics ukrain  ",
      "text/html": "<div>\n<style scoped>\n    .dataframe tbody tr th:only-of-type {\n        vertical-align: middle;\n    }\n\n    .dataframe tbody tr th {\n        vertical-align: top;\n    }\n\n    .dataframe thead th {\n        text-align: right;\n    }\n</style>\n<table border=\"1\" class=\"dataframe\">\n  <thead>\n    <tr style=\"text-align: right;\">\n      <th></th>\n      <th>tweetid</th>\n      <th>tweetcreatedts</th>\n      <th>language</th>\n      <th>location</th>\n      <th>text</th>\n      <th>hashtags</th>\n      <th>clean_text</th>\n    </tr>\n  </thead>\n  <tbody>\n    <tr>\n      <th>149212</th>\n      <td>1498447926531887104</td>\n      <td>2022-03-01</td>\n      <td>en</td>\n      <td>None</td>\n      <td>It’s all a game and anonymous cowards are runn...</td>\n      <td>[{'text': 'coronavirus', 'indices': [78, 90]},...</td>\n      <td>game anonymous coward run show behind curtain ...</td>\n    </tr>\n    <tr>\n      <th>149213</th>\n      <td>1498447927009693697</td>\n      <td>2022-03-01</td>\n      <td>en</td>\n      <td>India</td>\n      <td>.@peta urges government to rescue student alon...</td>\n      <td>[{'text': 'UkraineRussiaWar', 'indices': [80, ...</td>\n      <td>peta urges government rescue student along com...</td>\n    </tr>\n    <tr>\n      <th>149214</th>\n      <td>1498447927022264320</td>\n      <td>2022-03-01</td>\n      <td>en</td>\n      <td>Texas</td>\n      <td>Instead of talking about how to save lives in ...</td>\n      <td>[{'text': 'Ukraine', 'indices': [46, 54]}]</td>\n      <td>instead talk save life ukraine senate democrat...</td>\n    </tr>\n    <tr>\n      <th>149216</th>\n      <td>1498447927622176768</td>\n      <td>2022-03-01</td>\n      <td>en</td>\n      <td>Stoney Creek, Ontario</td>\n      <td>Moscow underground. Sometimes the act of resis...</td>\n      <td>[{'text': 'Ukraine', 'indices': [122, 130]}]</td>\n      <td>moscow underground sometimes act resistance do...</td>\n    </tr>\n    <tr>\n      <th>149218</th>\n      <td>1498447928033165317</td>\n      <td>2022-03-01</td>\n      <td>en</td>\n      <td>None</td>\n      <td>When you know physics and geo-politics! #Ukrai...</td>\n      <td>[{'text': 'Ukraine', 'indices': [61, 69]}]</td>\n      <td>know physic geo politics ukrain</td>\n    </tr>\n  </tbody>\n</table>\n</div>"
     },
     "execution_count": 3,
     "metadata": {},
     "output_type": "execute_result"
    }
   ],
   "source": [
    "raw = pd.read_parquet('df.parquet.gzip')\n",
    "# unsupervised = raw[raw[\"tweetcreatedts\"] >= '2022-03-03']\n",
    "data = raw[raw[\"tweetcreatedts\"] < '2022-03-03']\n",
    "\n",
    "# data, unsupervised = train_test_split(raw, test_size=0.5, random_state=42, shuffle=True)\n",
    "data.head()"
   ],
   "metadata": {
    "collapsed": false,
    "ExecuteTime": {
     "end_time": "2024-01-04T09:34:42.750450728Z",
     "start_time": "2024-01-04T09:34:40.025543274Z"
    }
   },
   "id": "92c49f2ec7cb5512"
  },
  {
   "cell_type": "code",
   "execution_count": 4,
   "outputs": [
    {
     "ename": "NameError",
     "evalue": "name 'unsupervised' is not defined",
     "output_type": "error",
     "traceback": [
      "\u001B[0;31m---------------------------------------------------------------------------\u001B[0m",
      "\u001B[0;31mNameError\u001B[0m                                 Traceback (most recent call last)",
      "Cell \u001B[0;32mIn[4], line 1\u001B[0m\n\u001B[0;32m----> 1\u001B[0m \u001B[43munsupervised\u001B[49m\u001B[38;5;241m.\u001B[39minfo()\n",
      "\u001B[0;31mNameError\u001B[0m: name 'unsupervised' is not defined"
     ]
    }
   ],
   "source": [
    "unsupervised.info()"
   ],
   "metadata": {
    "collapsed": false,
    "ExecuteTime": {
     "end_time": "2024-01-04T09:34:43.154078510Z",
     "start_time": "2024-01-04T09:34:42.750902010Z"
    }
   },
   "id": "b58d1c6f354ff060"
  },
  {
   "cell_type": "code",
   "execution_count": 5,
   "outputs": [],
   "source": [
    "import pandas as pd\n",
    "from transformers import AutoModelForSequenceClassification, AutoTokenizer\n",
    "import torch\n",
    "from torch.nn.functional import softmax\n",
    "\n",
    "# Function for sentiment analysis on a single text\n",
    "def sentiment_analysis(text, model, tokenizer):\n",
    "    # Preprocess text\n",
    "    inputs = tokenizer(text, return_tensors=\"pt\", padding=True, truncation=True)\n",
    "\n",
    "    # Perform inference\n",
    "    with torch.no_grad():\n",
    "        logits = model(**inputs).logits\n",
    "\n",
    "    # Convert logits to probabilities\n",
    "    probabilities = softmax(logits, dim=1).flatten().tolist()\n",
    "\n",
    "    # Extract scores for each sentiment\n",
    "    return {label: score for label, score in zip(model.config.id2label.values(), probabilities)}\n",
    "\n",
    "# Function to handle batch processing\n",
    "def batch_sentiment_analysis(texts, model, tokenizer, batch_size=16):\n",
    "    results = []\n",
    "    for i in tqdm(range(0, len(texts), batch_size)):\n",
    "        batch_texts = texts[i:i+batch_size]\n",
    "        batch_results = [sentiment_analysis(text, model, tokenizer) for text in batch_texts]\n",
    "        results.extend(batch_results)\n",
    "    return results\n",
    "\n",
    "# Load model and tokenizer\n",
    "model_name = \"michellejieli/emotion_text_classifier\"\n",
    "model = AutoModelForSequenceClassification.from_pretrained(model_name)\n",
    "tokenizer = AutoTokenizer.from_pretrained(model_name)\n",
    "\n",
    "# Example DataFrame\n",
    "# data = {'text': [\"I love this!\", \"I hate this!\", ...]}  # Replace with your data\n",
    "# df = pd.DataFrame(data)\n",
    "if not os.path.exists('sentiment_pivoted.parquet.gzip'):\n",
    "    # Apply the batch sentiment analysis function\n",
    "    data['sentiment_scores'] = batch_sentiment_analysis(data['clean_text'].tolist(), model, tokenizer, batch_size=100)\n",
    "    # Convert sentiment_scores column to a DataFrame\n",
    "    sentiment_df = pd.json_normalize(data['sentiment_scores'])\n",
    "    \n",
    "    # Concatenate the new DataFrame with the original DataFrame\n",
    "    result_df = pd.concat([data, sentiment_df], axis=1).drop(columns=['sentiment_scores'])\n",
    "    result_df.to_parquet('sentiment_pivoted.parquet.gzip', compression='gzip')"
   ],
   "metadata": {
    "collapsed": false,
    "ExecuteTime": {
     "end_time": "2024-01-04T09:34:48.752460861Z",
     "start_time": "2024-01-04T09:34:45.570694673Z"
    }
   },
   "id": "7e388ee20811ccd3"
  },
  {
   "cell_type": "code",
   "execution_count": 6,
   "outputs": [
    {
     "data": {
      "text/plain": "       tweetcreatedts language               location  \\\n149212     2022-03-01       en                   None   \n149213     2022-03-01       en                  India   \n149214     2022-03-01       en                  Texas   \n149216     2022-03-01       en  Stoney Creek, Ontario   \n149218     2022-03-01       en                   None   \n\n                                                     text  \\\n149212  It’s all a game and anonymous cowards are runn...   \n149213  .@peta urges government to rescue student alon...   \n149214  Instead of talking about how to save lives in ...   \n149216  Moscow underground. Sometimes the act of resis...   \n149218  When you know physics and geo-politics! #Ukrai...   \n\n                                                 hashtags  \\\n149212  [{'text': 'coronavirus', 'indices': [78, 90]},...   \n149213  [{'text': 'UkraineRussiaWar', 'indices': [80, ...   \n149214         [{'text': 'Ukraine', 'indices': [46, 54]}]   \n149216       [{'text': 'Ukraine', 'indices': [122, 130]}]   \n149218         [{'text': 'Ukraine', 'indices': [61, 69]}]   \n\n                                               clean_text     anger   disgust  \\\n149212  game anonymous coward run show behind curtain ...  0.005649  0.002241   \n149213  peta urges government rescue student along com...  0.007289  0.000919   \n149214  instead talk save life ukraine senate democrat...  0.004652  0.000297   \n149216  moscow underground sometimes act resistance do...  0.009663  0.000656   \n149218                    know physic geo politics ukrain  0.013876  0.000557   \n\n            fear       joy   neutral   sadness  surprise  \n149212  0.004141  0.026622  0.889571  0.070709  0.001067  \n149213  0.005890  0.538805  0.428596  0.017467  0.001033  \n149214  0.004030  0.069761  0.909776  0.008600  0.002885  \n149216  0.005110  0.015963  0.941785  0.012634  0.014189  \n149218  0.002424  0.109960  0.861579  0.008876  0.002728  ",
      "text/html": "<div>\n<style scoped>\n    .dataframe tbody tr th:only-of-type {\n        vertical-align: middle;\n    }\n\n    .dataframe tbody tr th {\n        vertical-align: top;\n    }\n\n    .dataframe thead th {\n        text-align: right;\n    }\n</style>\n<table border=\"1\" class=\"dataframe\">\n  <thead>\n    <tr style=\"text-align: right;\">\n      <th></th>\n      <th>tweetcreatedts</th>\n      <th>language</th>\n      <th>location</th>\n      <th>text</th>\n      <th>hashtags</th>\n      <th>clean_text</th>\n      <th>anger</th>\n      <th>disgust</th>\n      <th>fear</th>\n      <th>joy</th>\n      <th>neutral</th>\n      <th>sadness</th>\n      <th>surprise</th>\n    </tr>\n  </thead>\n  <tbody>\n    <tr>\n      <th>149212</th>\n      <td>2022-03-01</td>\n      <td>en</td>\n      <td>None</td>\n      <td>It’s all a game and anonymous cowards are runn...</td>\n      <td>[{'text': 'coronavirus', 'indices': [78, 90]},...</td>\n      <td>game anonymous coward run show behind curtain ...</td>\n      <td>0.005649</td>\n      <td>0.002241</td>\n      <td>0.004141</td>\n      <td>0.026622</td>\n      <td>0.889571</td>\n      <td>0.070709</td>\n      <td>0.001067</td>\n    </tr>\n    <tr>\n      <th>149213</th>\n      <td>2022-03-01</td>\n      <td>en</td>\n      <td>India</td>\n      <td>.@peta urges government to rescue student alon...</td>\n      <td>[{'text': 'UkraineRussiaWar', 'indices': [80, ...</td>\n      <td>peta urges government rescue student along com...</td>\n      <td>0.007289</td>\n      <td>0.000919</td>\n      <td>0.005890</td>\n      <td>0.538805</td>\n      <td>0.428596</td>\n      <td>0.017467</td>\n      <td>0.001033</td>\n    </tr>\n    <tr>\n      <th>149214</th>\n      <td>2022-03-01</td>\n      <td>en</td>\n      <td>Texas</td>\n      <td>Instead of talking about how to save lives in ...</td>\n      <td>[{'text': 'Ukraine', 'indices': [46, 54]}]</td>\n      <td>instead talk save life ukraine senate democrat...</td>\n      <td>0.004652</td>\n      <td>0.000297</td>\n      <td>0.004030</td>\n      <td>0.069761</td>\n      <td>0.909776</td>\n      <td>0.008600</td>\n      <td>0.002885</td>\n    </tr>\n    <tr>\n      <th>149216</th>\n      <td>2022-03-01</td>\n      <td>en</td>\n      <td>Stoney Creek, Ontario</td>\n      <td>Moscow underground. Sometimes the act of resis...</td>\n      <td>[{'text': 'Ukraine', 'indices': [122, 130]}]</td>\n      <td>moscow underground sometimes act resistance do...</td>\n      <td>0.009663</td>\n      <td>0.000656</td>\n      <td>0.005110</td>\n      <td>0.015963</td>\n      <td>0.941785</td>\n      <td>0.012634</td>\n      <td>0.014189</td>\n    </tr>\n    <tr>\n      <th>149218</th>\n      <td>2022-03-01</td>\n      <td>en</td>\n      <td>None</td>\n      <td>When you know physics and geo-politics! #Ukrai...</td>\n      <td>[{'text': 'Ukraine', 'indices': [61, 69]}]</td>\n      <td>know physic geo politics ukrain</td>\n      <td>0.013876</td>\n      <td>0.000557</td>\n      <td>0.002424</td>\n      <td>0.109960</td>\n      <td>0.861579</td>\n      <td>0.008876</td>\n      <td>0.002728</td>\n    </tr>\n  </tbody>\n</table>\n</div>"
     },
     "execution_count": 6,
     "metadata": {},
     "output_type": "execute_result"
    }
   ],
   "source": [
    "df = pd.read_parquet('sentiment_pivoted.parquet.gzip')\n",
    "df = df.dropna(subset=['clean_text'])\n",
    "df.head()"
   ],
   "metadata": {
    "collapsed": false,
    "ExecuteTime": {
     "end_time": "2024-01-04T09:34:50.620695933Z",
     "start_time": "2024-01-04T09:34:48.751285625Z"
    }
   },
   "id": "216d6aeeb26c8c0d"
  },
  {
   "cell_type": "code",
   "execution_count": 7,
   "outputs": [],
   "source": [
    "# Selecting features for clustering\n",
    "X = df[['anger', 'disgust', 'fear', 'joy', 'neutral', 'sadness', 'surprise']]\n",
    "X = X.fillna(0)"
   ],
   "metadata": {
    "collapsed": false,
    "ExecuteTime": {
     "end_time": "2024-01-04T09:34:50.679305150Z",
     "start_time": "2024-01-04T09:34:50.623412026Z"
    }
   },
   "id": "b1b5863998ebdf96"
  },
  {
   "cell_type": "code",
   "execution_count": 8,
   "outputs": [
    {
     "data": {
      "text/plain": "           anger   disgust      fear       joy   neutral   sadness  surprise\n149212  0.005649  0.002241  0.004141  0.026622  0.889571  0.070709  0.001067\n149213  0.007289  0.000919  0.005890  0.538805  0.428596  0.017467  0.001033\n149214  0.004652  0.000297  0.004030  0.069761  0.909776  0.008600  0.002885\n149216  0.009663  0.000656  0.005110  0.015963  0.941785  0.012634  0.014189\n149218  0.013876  0.000557  0.002424  0.109960  0.861579  0.008876  0.002728\n...          ...       ...       ...       ...       ...       ...       ...\n982578  0.033039  0.000910  0.738231  0.107564  0.072248  0.047066  0.000942\n982579  0.144326  0.004390  0.407589  0.043661  0.241684  0.157378  0.000973\n982580  0.044467  0.000336  0.673524  0.049731  0.186874  0.041498  0.003570\n982581  0.022767  0.001000  0.244091  0.025217  0.669362  0.035916  0.001646\n982582  0.367632  0.002732  0.237758  0.020419  0.340870  0.026088  0.004501\n\n[997314 rows x 7 columns]",
      "text/html": "<div>\n<style scoped>\n    .dataframe tbody tr th:only-of-type {\n        vertical-align: middle;\n    }\n\n    .dataframe tbody tr th {\n        vertical-align: top;\n    }\n\n    .dataframe thead th {\n        text-align: right;\n    }\n</style>\n<table border=\"1\" class=\"dataframe\">\n  <thead>\n    <tr style=\"text-align: right;\">\n      <th></th>\n      <th>anger</th>\n      <th>disgust</th>\n      <th>fear</th>\n      <th>joy</th>\n      <th>neutral</th>\n      <th>sadness</th>\n      <th>surprise</th>\n    </tr>\n  </thead>\n  <tbody>\n    <tr>\n      <th>149212</th>\n      <td>0.005649</td>\n      <td>0.002241</td>\n      <td>0.004141</td>\n      <td>0.026622</td>\n      <td>0.889571</td>\n      <td>0.070709</td>\n      <td>0.001067</td>\n    </tr>\n    <tr>\n      <th>149213</th>\n      <td>0.007289</td>\n      <td>0.000919</td>\n      <td>0.005890</td>\n      <td>0.538805</td>\n      <td>0.428596</td>\n      <td>0.017467</td>\n      <td>0.001033</td>\n    </tr>\n    <tr>\n      <th>149214</th>\n      <td>0.004652</td>\n      <td>0.000297</td>\n      <td>0.004030</td>\n      <td>0.069761</td>\n      <td>0.909776</td>\n      <td>0.008600</td>\n      <td>0.002885</td>\n    </tr>\n    <tr>\n      <th>149216</th>\n      <td>0.009663</td>\n      <td>0.000656</td>\n      <td>0.005110</td>\n      <td>0.015963</td>\n      <td>0.941785</td>\n      <td>0.012634</td>\n      <td>0.014189</td>\n    </tr>\n    <tr>\n      <th>149218</th>\n      <td>0.013876</td>\n      <td>0.000557</td>\n      <td>0.002424</td>\n      <td>0.109960</td>\n      <td>0.861579</td>\n      <td>0.008876</td>\n      <td>0.002728</td>\n    </tr>\n    <tr>\n      <th>...</th>\n      <td>...</td>\n      <td>...</td>\n      <td>...</td>\n      <td>...</td>\n      <td>...</td>\n      <td>...</td>\n      <td>...</td>\n    </tr>\n    <tr>\n      <th>982578</th>\n      <td>0.033039</td>\n      <td>0.000910</td>\n      <td>0.738231</td>\n      <td>0.107564</td>\n      <td>0.072248</td>\n      <td>0.047066</td>\n      <td>0.000942</td>\n    </tr>\n    <tr>\n      <th>982579</th>\n      <td>0.144326</td>\n      <td>0.004390</td>\n      <td>0.407589</td>\n      <td>0.043661</td>\n      <td>0.241684</td>\n      <td>0.157378</td>\n      <td>0.000973</td>\n    </tr>\n    <tr>\n      <th>982580</th>\n      <td>0.044467</td>\n      <td>0.000336</td>\n      <td>0.673524</td>\n      <td>0.049731</td>\n      <td>0.186874</td>\n      <td>0.041498</td>\n      <td>0.003570</td>\n    </tr>\n    <tr>\n      <th>982581</th>\n      <td>0.022767</td>\n      <td>0.001000</td>\n      <td>0.244091</td>\n      <td>0.025217</td>\n      <td>0.669362</td>\n      <td>0.035916</td>\n      <td>0.001646</td>\n    </tr>\n    <tr>\n      <th>982582</th>\n      <td>0.367632</td>\n      <td>0.002732</td>\n      <td>0.237758</td>\n      <td>0.020419</td>\n      <td>0.340870</td>\n      <td>0.026088</td>\n      <td>0.004501</td>\n    </tr>\n  </tbody>\n</table>\n<p>997314 rows × 7 columns</p>\n</div>"
     },
     "execution_count": 8,
     "metadata": {},
     "output_type": "execute_result"
    }
   ],
   "source": [
    "X"
   ],
   "metadata": {
    "collapsed": false,
    "ExecuteTime": {
     "end_time": "2024-01-04T09:34:50.757980055Z",
     "start_time": "2024-01-04T09:34:50.722209987Z"
    }
   },
   "id": "423c9f3553dde451"
  },
  {
   "cell_type": "code",
   "execution_count": 9,
   "outputs": [
    {
     "name": "stderr",
     "output_type": "stream",
     "text": [
      "/home/francesco/anaconda3/envs/NLP3/lib/python3.10/site-packages/sklearn/cluster/_kmeans.py:1412: FutureWarning: The default value of `n_init` will change from 10 to 'auto' in 1.4. Set the value of `n_init` explicitly to suppress the warning\n",
      "  super()._check_params_vs_input(X, default_n_init=10)\n",
      "Exception ignored on calling ctypes callback function: <function _ThreadpoolInfo._find_modules_with_dl_iterate_phdr.<locals>.match_module_callback at 0x7f143c0164d0>\n",
      "Traceback (most recent call last):\n",
      "  File \"/home/francesco/anaconda3/envs/NLP3/lib/python3.10/site-packages/threadpoolctl.py\", line 400, in match_module_callback\n",
      "    self._make_module_from_path(filepath)\n",
      "  File \"/home/francesco/anaconda3/envs/NLP3/lib/python3.10/site-packages/threadpoolctl.py\", line 515, in _make_module_from_path\n",
      "    module = module_class(filepath, prefix, user_api, internal_api)\n",
      "  File \"/home/francesco/anaconda3/envs/NLP3/lib/python3.10/site-packages/threadpoolctl.py\", line 606, in __init__\n",
      "    self.version = self.get_version()\n",
      "  File \"/home/francesco/anaconda3/envs/NLP3/lib/python3.10/site-packages/threadpoolctl.py\", line 646, in get_version\n",
      "    config = get_config().split()\n",
      "AttributeError: 'NoneType' object has no attribute 'split'\n",
      "Exception ignored on calling ctypes callback function: <function _ThreadpoolInfo._find_modules_with_dl_iterate_phdr.<locals>.match_module_callback at 0x7f143c016c20>\n",
      "Traceback (most recent call last):\n",
      "  File \"/home/francesco/anaconda3/envs/NLP3/lib/python3.10/site-packages/threadpoolctl.py\", line 400, in match_module_callback\n",
      "    self._make_module_from_path(filepath)\n",
      "  File \"/home/francesco/anaconda3/envs/NLP3/lib/python3.10/site-packages/threadpoolctl.py\", line 515, in _make_module_from_path\n",
      "    module = module_class(filepath, prefix, user_api, internal_api)\n",
      "  File \"/home/francesco/anaconda3/envs/NLP3/lib/python3.10/site-packages/threadpoolctl.py\", line 606, in __init__\n",
      "    self.version = self.get_version()\n",
      "  File \"/home/francesco/anaconda3/envs/NLP3/lib/python3.10/site-packages/threadpoolctl.py\", line 646, in get_version\n",
      "    config = get_config().split()\n",
      "AttributeError: 'NoneType' object has no attribute 'split'\n",
      "Exception ignored on calling ctypes callback function: <function _ThreadpoolInfo._find_modules_with_dl_iterate_phdr.<locals>.match_module_callback at 0x7f143c017f40>\n",
      "Traceback (most recent call last):\n",
      "  File \"/home/francesco/anaconda3/envs/NLP3/lib/python3.10/site-packages/threadpoolctl.py\", line 400, in match_module_callback\n",
      "    self._make_module_from_path(filepath)\n",
      "  File \"/home/francesco/anaconda3/envs/NLP3/lib/python3.10/site-packages/threadpoolctl.py\", line 515, in _make_module_from_path\n",
      "    module = module_class(filepath, prefix, user_api, internal_api)\n",
      "  File \"/home/francesco/anaconda3/envs/NLP3/lib/python3.10/site-packages/threadpoolctl.py\", line 606, in __init__\n",
      "    self.version = self.get_version()\n",
      "  File \"/home/francesco/anaconda3/envs/NLP3/lib/python3.10/site-packages/threadpoolctl.py\", line 646, in get_version\n",
      "    config = get_config().split()\n",
      "AttributeError: 'NoneType' object has no attribute 'split'\n",
      "Exception ignored on calling ctypes callback function: <function _ThreadpoolInfo._find_modules_with_dl_iterate_phdr.<locals>.match_module_callback at 0x7f143c017eb0>\n",
      "Traceback (most recent call last):\n",
      "  File \"/home/francesco/anaconda3/envs/NLP3/lib/python3.10/site-packages/threadpoolctl.py\", line 400, in match_module_callback\n",
      "    self._make_module_from_path(filepath)\n",
      "  File \"/home/francesco/anaconda3/envs/NLP3/lib/python3.10/site-packages/threadpoolctl.py\", line 515, in _make_module_from_path\n",
      "    module = module_class(filepath, prefix, user_api, internal_api)\n",
      "  File \"/home/francesco/anaconda3/envs/NLP3/lib/python3.10/site-packages/threadpoolctl.py\", line 606, in __init__\n",
      "    self.version = self.get_version()\n",
      "  File \"/home/francesco/anaconda3/envs/NLP3/lib/python3.10/site-packages/threadpoolctl.py\", line 646, in get_version\n",
      "    config = get_config().split()\n",
      "AttributeError: 'NoneType' object has no attribute 'split'\n",
      "Exception ignored on calling ctypes callback function: <function _ThreadpoolInfo._find_modules_with_dl_iterate_phdr.<locals>.match_module_callback at 0x7f143c0164d0>\n",
      "Traceback (most recent call last):\n",
      "  File \"/home/francesco/anaconda3/envs/NLP3/lib/python3.10/site-packages/threadpoolctl.py\", line 400, in match_module_callback\n",
      "    self._make_module_from_path(filepath)\n",
      "  File \"/home/francesco/anaconda3/envs/NLP3/lib/python3.10/site-packages/threadpoolctl.py\", line 515, in _make_module_from_path\n",
      "    module = module_class(filepath, prefix, user_api, internal_api)\n",
      "  File \"/home/francesco/anaconda3/envs/NLP3/lib/python3.10/site-packages/threadpoolctl.py\", line 606, in __init__\n",
      "    self.version = self.get_version()\n",
      "  File \"/home/francesco/anaconda3/envs/NLP3/lib/python3.10/site-packages/threadpoolctl.py\", line 646, in get_version\n",
      "    config = get_config().split()\n",
      "AttributeError: 'NoneType' object has no attribute 'split'\n",
      "Exception ignored on calling ctypes callback function: <function _ThreadpoolInfo._find_modules_with_dl_iterate_phdr.<locals>.match_module_callback at 0x7f143c016c20>\n",
      "Traceback (most recent call last):\n",
      "  File \"/home/francesco/anaconda3/envs/NLP3/lib/python3.10/site-packages/threadpoolctl.py\", line 400, in match_module_callback\n",
      "    self._make_module_from_path(filepath)\n",
      "  File \"/home/francesco/anaconda3/envs/NLP3/lib/python3.10/site-packages/threadpoolctl.py\", line 515, in _make_module_from_path\n",
      "    module = module_class(filepath, prefix, user_api, internal_api)\n",
      "  File \"/home/francesco/anaconda3/envs/NLP3/lib/python3.10/site-packages/threadpoolctl.py\", line 606, in __init__\n",
      "    self.version = self.get_version()\n",
      "  File \"/home/francesco/anaconda3/envs/NLP3/lib/python3.10/site-packages/threadpoolctl.py\", line 646, in get_version\n",
      "    config = get_config().split()\n",
      "AttributeError: 'NoneType' object has no attribute 'split'\n",
      "Exception ignored on calling ctypes callback function: <function _ThreadpoolInfo._find_modules_with_dl_iterate_phdr.<locals>.match_module_callback at 0x7f143c017f40>\n",
      "Traceback (most recent call last):\n",
      "  File \"/home/francesco/anaconda3/envs/NLP3/lib/python3.10/site-packages/threadpoolctl.py\", line 400, in match_module_callback\n",
      "    self._make_module_from_path(filepath)\n",
      "  File \"/home/francesco/anaconda3/envs/NLP3/lib/python3.10/site-packages/threadpoolctl.py\", line 515, in _make_module_from_path\n",
      "    module = module_class(filepath, prefix, user_api, internal_api)\n",
      "  File \"/home/francesco/anaconda3/envs/NLP3/lib/python3.10/site-packages/threadpoolctl.py\", line 606, in __init__\n",
      "    self.version = self.get_version()\n",
      "  File \"/home/francesco/anaconda3/envs/NLP3/lib/python3.10/site-packages/threadpoolctl.py\", line 646, in get_version\n",
      "    config = get_config().split()\n",
      "AttributeError: 'NoneType' object has no attribute 'split'\n",
      "Exception ignored on calling ctypes callback function: <function _ThreadpoolInfo._find_modules_with_dl_iterate_phdr.<locals>.match_module_callback at 0x7f143c017eb0>\n",
      "Traceback (most recent call last):\n",
      "  File \"/home/francesco/anaconda3/envs/NLP3/lib/python3.10/site-packages/threadpoolctl.py\", line 400, in match_module_callback\n",
      "    self._make_module_from_path(filepath)\n",
      "  File \"/home/francesco/anaconda3/envs/NLP3/lib/python3.10/site-packages/threadpoolctl.py\", line 515, in _make_module_from_path\n",
      "    module = module_class(filepath, prefix, user_api, internal_api)\n",
      "  File \"/home/francesco/anaconda3/envs/NLP3/lib/python3.10/site-packages/threadpoolctl.py\", line 606, in __init__\n",
      "    self.version = self.get_version()\n",
      "  File \"/home/francesco/anaconda3/envs/NLP3/lib/python3.10/site-packages/threadpoolctl.py\", line 646, in get_version\n",
      "    config = get_config().split()\n",
      "AttributeError: 'NoneType' object has no attribute 'split'\n",
      "Exception ignored on calling ctypes callback function: <function _ThreadpoolInfo._find_modules_with_dl_iterate_phdr.<locals>.match_module_callback at 0x7f143c0164d0>\n",
      "Traceback (most recent call last):\n",
      "  File \"/home/francesco/anaconda3/envs/NLP3/lib/python3.10/site-packages/threadpoolctl.py\", line 400, in match_module_callback\n",
      "    self._make_module_from_path(filepath)\n",
      "  File \"/home/francesco/anaconda3/envs/NLP3/lib/python3.10/site-packages/threadpoolctl.py\", line 515, in _make_module_from_path\n",
      "    module = module_class(filepath, prefix, user_api, internal_api)\n",
      "  File \"/home/francesco/anaconda3/envs/NLP3/lib/python3.10/site-packages/threadpoolctl.py\", line 606, in __init__\n",
      "    self.version = self.get_version()\n",
      "  File \"/home/francesco/anaconda3/envs/NLP3/lib/python3.10/site-packages/threadpoolctl.py\", line 646, in get_version\n",
      "    config = get_config().split()\n",
      "AttributeError: 'NoneType' object has no attribute 'split'\n",
      "Exception ignored on calling ctypes callback function: <function _ThreadpoolInfo._find_modules_with_dl_iterate_phdr.<locals>.match_module_callback at 0x7f143c016c20>\n",
      "Traceback (most recent call last):\n",
      "  File \"/home/francesco/anaconda3/envs/NLP3/lib/python3.10/site-packages/threadpoolctl.py\", line 400, in match_module_callback\n",
      "    self._make_module_from_path(filepath)\n",
      "  File \"/home/francesco/anaconda3/envs/NLP3/lib/python3.10/site-packages/threadpoolctl.py\", line 515, in _make_module_from_path\n",
      "    module = module_class(filepath, prefix, user_api, internal_api)\n",
      "  File \"/home/francesco/anaconda3/envs/NLP3/lib/python3.10/site-packages/threadpoolctl.py\", line 606, in __init__\n",
      "    self.version = self.get_version()\n",
      "  File \"/home/francesco/anaconda3/envs/NLP3/lib/python3.10/site-packages/threadpoolctl.py\", line 646, in get_version\n",
      "    config = get_config().split()\n",
      "AttributeError: 'NoneType' object has no attribute 'split'\n"
     ]
    }
   ],
   "source": [
    "from sklearn.cluster import KMeans\n",
    "\n",
    "k = 7  # Example value\n",
    "\n",
    "# Applying K-Means clustering\n",
    "kmeans = KMeans(n_clusters=k, random_state=0)\n",
    "df['cluster'] = kmeans.fit_predict(X)\n"
   ],
   "metadata": {
    "collapsed": false,
    "ExecuteTime": {
     "end_time": "2024-01-04T09:34:55.650644100Z",
     "start_time": "2024-01-04T09:34:52.414812656Z"
    }
   },
   "id": "33ab06679629750e"
  },
  {
   "cell_type": "code",
   "execution_count": 10,
   "outputs": [
    {
     "data": {
      "text/plain": "            tweetcreatedts language                     location  \\\n149212 2022-03-01 00:00:00       en                         None   \n149213 2022-03-01 00:00:00       en                        India   \n149214 2022-03-01 00:00:00       en                        Texas   \n149216 2022-03-01 00:00:00       en        Stoney Creek, Ontario   \n149218 2022-03-01 00:00:00       en                         None   \n...                    ...      ...                          ...   \n982578 2022-03-02 23:59:55       en           Massachusetts, USA   \n982579 2022-03-02 23:59:56       en                         None   \n982580 2022-03-02 23:59:56       en  Vancouver, British Columbia   \n982581 2022-03-02 23:59:56       en              East Coast, USA   \n982582 2022-03-02 23:59:56       en                Arlington, MA   \n\n                                                     text  \\\n149212  It’s all a game and anonymous cowards are runn...   \n149213  .@peta urges government to rescue student alon...   \n149214  Instead of talking about how to save lives in ...   \n149216  Moscow underground. Sometimes the act of resis...   \n149218  When you know physics and geo-politics! #Ukrai...   \n...                                                   ...   \n982578  A third and fourth explosion have now been hea...   \n982579  @PeaceInuToken\\nThis the #BSCGem of 2022\\n💸Pri...   \n982580  Kharkiv residents are ready to give a warm wel...   \n982581  Two of the largest explosions I’ve ever experi...   \n982582  I am now finally a part of the Ukrainian forei...   \n\n                                                 hashtags  \\\n149212  [{'text': 'coronavirus', 'indices': [78, 90]},...   \n149213  [{'text': 'UkraineRussiaWar', 'indices': [80, ...   \n149214         [{'text': 'Ukraine', 'indices': [46, 54]}]   \n149216       [{'text': 'Ukraine', 'indices': [122, 130]}]   \n149218         [{'text': 'Ukraine', 'indices': [61, 69]}]   \n...                                                   ...   \n982578            [{'text': 'Kyiv', 'indices': [72, 77]}]   \n982579          [{'text': 'BSCGem', 'indices': [45, 52]}]   \n982580  [{'text': 'StopWarInUkraine', 'indices': [84, ...   \n982581            [{'text': 'kyiv', 'indices': [85, 90]}]   \n982582                                                 []   \n\n                                               clean_text     anger   disgust  \\\n149212  game anonymous coward run show behind curtain ...  0.005649  0.002241   \n149213  peta urges government rescue student along com...  0.007289  0.000919   \n149214  instead talk save life ukraine senate democrat...  0.004652  0.000297   \n149216  moscow underground sometimes act resistance do...  0.009663  0.000656   \n149218                    know physic geo politics ukrain  0.013876  0.000557   \n...                                                   ...       ...       ...   \n982578  third fourth explosion hear near kyiv metro st...  0.033039  0.000910   \n982579  peaceinutoken bscgem private sale live pre sal...  0.144326  0.004390   \n982580  kharkiv resident ready give warm welcome occup...  0.044467  0.000336   \n982581    two large explosion ive ever experience go kyiv  0.022767  0.001000   \n982582  finally part ukrainian foreign legion finnish ...  0.367632  0.002732   \n\n            fear       joy   neutral   sadness  surprise  cluster  \n149212  0.004141  0.026622  0.889571  0.070709  0.001067        2  \n149213  0.005890  0.538805  0.428596  0.017467  0.001033        0  \n149214  0.004030  0.069761  0.909776  0.008600  0.002885        2  \n149216  0.005110  0.015963  0.941785  0.012634  0.014189        2  \n149218  0.002424  0.109960  0.861579  0.008876  0.002728        2  \n...          ...       ...       ...       ...       ...      ...  \n982578  0.738231  0.107564  0.072248  0.047066  0.000942        3  \n982579  0.407589  0.043661  0.241684  0.157378  0.000973        3  \n982580  0.673524  0.049731  0.186874  0.041498  0.003570        3  \n982581  0.244091  0.025217  0.669362  0.035916  0.001646        6  \n982582  0.237758  0.020419  0.340870  0.026088  0.004501        6  \n\n[997314 rows x 14 columns]",
      "text/html": "<div>\n<style scoped>\n    .dataframe tbody tr th:only-of-type {\n        vertical-align: middle;\n    }\n\n    .dataframe tbody tr th {\n        vertical-align: top;\n    }\n\n    .dataframe thead th {\n        text-align: right;\n    }\n</style>\n<table border=\"1\" class=\"dataframe\">\n  <thead>\n    <tr style=\"text-align: right;\">\n      <th></th>\n      <th>tweetcreatedts</th>\n      <th>language</th>\n      <th>location</th>\n      <th>text</th>\n      <th>hashtags</th>\n      <th>clean_text</th>\n      <th>anger</th>\n      <th>disgust</th>\n      <th>fear</th>\n      <th>joy</th>\n      <th>neutral</th>\n      <th>sadness</th>\n      <th>surprise</th>\n      <th>cluster</th>\n    </tr>\n  </thead>\n  <tbody>\n    <tr>\n      <th>149212</th>\n      <td>2022-03-01 00:00:00</td>\n      <td>en</td>\n      <td>None</td>\n      <td>It’s all a game and anonymous cowards are runn...</td>\n      <td>[{'text': 'coronavirus', 'indices': [78, 90]},...</td>\n      <td>game anonymous coward run show behind curtain ...</td>\n      <td>0.005649</td>\n      <td>0.002241</td>\n      <td>0.004141</td>\n      <td>0.026622</td>\n      <td>0.889571</td>\n      <td>0.070709</td>\n      <td>0.001067</td>\n      <td>2</td>\n    </tr>\n    <tr>\n      <th>149213</th>\n      <td>2022-03-01 00:00:00</td>\n      <td>en</td>\n      <td>India</td>\n      <td>.@peta urges government to rescue student alon...</td>\n      <td>[{'text': 'UkraineRussiaWar', 'indices': [80, ...</td>\n      <td>peta urges government rescue student along com...</td>\n      <td>0.007289</td>\n      <td>0.000919</td>\n      <td>0.005890</td>\n      <td>0.538805</td>\n      <td>0.428596</td>\n      <td>0.017467</td>\n      <td>0.001033</td>\n      <td>0</td>\n    </tr>\n    <tr>\n      <th>149214</th>\n      <td>2022-03-01 00:00:00</td>\n      <td>en</td>\n      <td>Texas</td>\n      <td>Instead of talking about how to save lives in ...</td>\n      <td>[{'text': 'Ukraine', 'indices': [46, 54]}]</td>\n      <td>instead talk save life ukraine senate democrat...</td>\n      <td>0.004652</td>\n      <td>0.000297</td>\n      <td>0.004030</td>\n      <td>0.069761</td>\n      <td>0.909776</td>\n      <td>0.008600</td>\n      <td>0.002885</td>\n      <td>2</td>\n    </tr>\n    <tr>\n      <th>149216</th>\n      <td>2022-03-01 00:00:00</td>\n      <td>en</td>\n      <td>Stoney Creek, Ontario</td>\n      <td>Moscow underground. Sometimes the act of resis...</td>\n      <td>[{'text': 'Ukraine', 'indices': [122, 130]}]</td>\n      <td>moscow underground sometimes act resistance do...</td>\n      <td>0.009663</td>\n      <td>0.000656</td>\n      <td>0.005110</td>\n      <td>0.015963</td>\n      <td>0.941785</td>\n      <td>0.012634</td>\n      <td>0.014189</td>\n      <td>2</td>\n    </tr>\n    <tr>\n      <th>149218</th>\n      <td>2022-03-01 00:00:00</td>\n      <td>en</td>\n      <td>None</td>\n      <td>When you know physics and geo-politics! #Ukrai...</td>\n      <td>[{'text': 'Ukraine', 'indices': [61, 69]}]</td>\n      <td>know physic geo politics ukrain</td>\n      <td>0.013876</td>\n      <td>0.000557</td>\n      <td>0.002424</td>\n      <td>0.109960</td>\n      <td>0.861579</td>\n      <td>0.008876</td>\n      <td>0.002728</td>\n      <td>2</td>\n    </tr>\n    <tr>\n      <th>...</th>\n      <td>...</td>\n      <td>...</td>\n      <td>...</td>\n      <td>...</td>\n      <td>...</td>\n      <td>...</td>\n      <td>...</td>\n      <td>...</td>\n      <td>...</td>\n      <td>...</td>\n      <td>...</td>\n      <td>...</td>\n      <td>...</td>\n      <td>...</td>\n    </tr>\n    <tr>\n      <th>982578</th>\n      <td>2022-03-02 23:59:55</td>\n      <td>en</td>\n      <td>Massachusetts, USA</td>\n      <td>A third and fourth explosion have now been hea...</td>\n      <td>[{'text': 'Kyiv', 'indices': [72, 77]}]</td>\n      <td>third fourth explosion hear near kyiv metro st...</td>\n      <td>0.033039</td>\n      <td>0.000910</td>\n      <td>0.738231</td>\n      <td>0.107564</td>\n      <td>0.072248</td>\n      <td>0.047066</td>\n      <td>0.000942</td>\n      <td>3</td>\n    </tr>\n    <tr>\n      <th>982579</th>\n      <td>2022-03-02 23:59:56</td>\n      <td>en</td>\n      <td>None</td>\n      <td>@PeaceInuToken\\nThis the #BSCGem of 2022\\n💸Pri...</td>\n      <td>[{'text': 'BSCGem', 'indices': [45, 52]}]</td>\n      <td>peaceinutoken bscgem private sale live pre sal...</td>\n      <td>0.144326</td>\n      <td>0.004390</td>\n      <td>0.407589</td>\n      <td>0.043661</td>\n      <td>0.241684</td>\n      <td>0.157378</td>\n      <td>0.000973</td>\n      <td>3</td>\n    </tr>\n    <tr>\n      <th>982580</th>\n      <td>2022-03-02 23:59:56</td>\n      <td>en</td>\n      <td>Vancouver, British Columbia</td>\n      <td>Kharkiv residents are ready to give a warm wel...</td>\n      <td>[{'text': 'StopWarInUkraine', 'indices': [84, ...</td>\n      <td>kharkiv resident ready give warm welcome occup...</td>\n      <td>0.044467</td>\n      <td>0.000336</td>\n      <td>0.673524</td>\n      <td>0.049731</td>\n      <td>0.186874</td>\n      <td>0.041498</td>\n      <td>0.003570</td>\n      <td>3</td>\n    </tr>\n    <tr>\n      <th>982581</th>\n      <td>2022-03-02 23:59:56</td>\n      <td>en</td>\n      <td>East Coast, USA</td>\n      <td>Two of the largest explosions I’ve ever experi...</td>\n      <td>[{'text': 'kyiv', 'indices': [85, 90]}]</td>\n      <td>two large explosion ive ever experience go kyiv</td>\n      <td>0.022767</td>\n      <td>0.001000</td>\n      <td>0.244091</td>\n      <td>0.025217</td>\n      <td>0.669362</td>\n      <td>0.035916</td>\n      <td>0.001646</td>\n      <td>6</td>\n    </tr>\n    <tr>\n      <th>982582</th>\n      <td>2022-03-02 23:59:56</td>\n      <td>en</td>\n      <td>Arlington, MA</td>\n      <td>I am now finally a part of the Ukrainian forei...</td>\n      <td>[]</td>\n      <td>finally part ukrainian foreign legion finnish ...</td>\n      <td>0.367632</td>\n      <td>0.002732</td>\n      <td>0.237758</td>\n      <td>0.020419</td>\n      <td>0.340870</td>\n      <td>0.026088</td>\n      <td>0.004501</td>\n      <td>6</td>\n    </tr>\n  </tbody>\n</table>\n<p>997314 rows × 14 columns</p>\n</div>"
     },
     "execution_count": 10,
     "metadata": {},
     "output_type": "execute_result"
    }
   ],
   "source": [
    "df"
   ],
   "metadata": {
    "collapsed": false,
    "ExecuteTime": {
     "end_time": "2024-01-04T09:35:02.106021098Z",
     "start_time": "2024-01-04T09:35:02.091877591Z"
    }
   },
   "id": "9d7585dcb588176a"
  },
  {
   "cell_type": "code",
   "outputs": [
    {
     "data": {
      "text/plain": "<Figure size 640x480 with 1 Axes>",
      "image/png": "[encoded data removed]"
     },
     "metadata": {},
     "output_type": "display_data"
    }
   ],
   "source": [
    "hist = df['cluster'].hist(bins=7)"
   ],
   "metadata": {
    "collapsed": false,
    "ExecuteTime": {
     "end_time": "2024-01-03T14:17:19.533057584Z",
     "start_time": "2024-01-03T14:17:19.277292317Z"
    }
   },
   "id": "9da96a38783cec42",
   "execution_count": 11
  },
  {
   "cell_type": "code",
   "outputs": [
    {
     "name": "stdout",
     "output_type": "stream",
     "text": [
      "            anger   disgust      fear       joy   neutral   sadness  surprise\n",
      "cluster                                                                      \n",
      "0        0.027609  0.000908  0.026109  0.711480  0.205787  0.021813  0.006294\n",
      "1        0.083373  0.424041  0.066931  0.087337  0.081450  0.047969  0.208898\n",
      "2        0.018898  0.001116  0.020821  0.048421  0.889330  0.018147  0.003266\n",
      "3        0.066816  0.001617  0.691505  0.044998  0.150070  0.041397  0.003597\n",
      "4        0.712319  0.007668  0.069024  0.051569  0.114506  0.041276  0.003638\n",
      "5        0.067657  0.004537  0.073356  0.085985  0.172511  0.590691  0.005264\n",
      "6        0.097370  0.002740  0.129581  0.169116  0.536960  0.058695  0.005537\n"
     ]
    }
   ],
   "source": [
    "# Assuming df is your DataFrame\n",
    "# Group by 'clusters' and then get the mean of each emotion\n",
    "cluster_summary = df[['cluster', 'anger', 'disgust', 'fear', 'joy', 'neutral', 'sadness', 'surprise']].groupby('cluster').mean()\n",
    "\n",
    "# Display the summary\n",
    "print(cluster_summary)"
   ],
   "metadata": {
    "collapsed": false,
    "ExecuteTime": {
     "end_time": "2024-01-04T09:50:24.191671846Z",
     "start_time": "2024-01-04T09:50:24.144754522Z"
    }
   },
   "id": "a9cbc27245ae6a8a",
   "execution_count": 13
  },
  {
   "cell_type": "code",
   "outputs": [
    {
     "name": "stdout",
     "output_type": "stream",
     "text": [
      "            anger                                                              \\\n",
      "            count      mean       std       min       25%       50%       75%   \n",
      "cluster                                                                         \n",
      "0         73801.0  0.027609  0.051072  0.000308  0.003535  0.008150  0.025370   \n",
      "1           733.0  0.083373  0.099642  0.000439  0.006524  0.030219  0.140288   \n",
      "2        271467.0  0.018898  0.028803  0.000537  0.004172  0.007947  0.019757   \n",
      "3         58908.0  0.066816  0.087663  0.000298  0.011166  0.031268  0.082912   \n",
      "4         42724.0  0.712319  0.185298  0.316964  0.547653  0.721149  0.881475   \n",
      "5         20765.0  0.067657  0.087710  0.000265  0.006329  0.034088  0.081503   \n",
      "6        149394.0  0.097370  0.106447  0.000748  0.015924  0.048812  0.152317   \n",
      "\n",
      "                    disgust            ...   sadness            surprise  \\\n",
      "              max     count      mean  ...       75%       max     count   \n",
      "cluster                                ...                                 \n",
      "0        0.428833   73801.0  0.000908  ...  0.021625  0.411355   73801.0   \n",
      "1        0.351004     733.0  0.424041  ...  0.063999  0.251714     733.0   \n",
      "2        0.262008  271467.0  0.001116  ...  0.021581  0.299814  271467.0   \n",
      "3        0.478461   58908.0  0.001617  ...  0.048623  0.458010   58908.0   \n",
      "4        0.996389   42724.0  0.007668  ...  0.046024  0.422793   42724.0   \n",
      "5        0.480235   20765.0  0.004537  ...  0.759782  0.992569   20765.0   \n",
      "6        0.475703  149394.0  0.002740  ...  0.068350  0.422424  149394.0   \n",
      "\n",
      "                                                                               \n",
      "             mean       std       min       25%       50%       75%       max  \n",
      "cluster                                                                        \n",
      "0        0.006294  0.031231  0.000255  0.001230  0.001886  0.003147  0.549680  \n",
      "1        0.208898  0.330885  0.000450  0.001715  0.002881  0.518334  0.967089  \n",
      "2        0.003266  0.005840  0.000277  0.001301  0.002022  0.003233  0.304997  \n",
      "3        0.003597  0.012358  0.000175  0.001055  0.001798  0.003098  0.442347  \n",
      "4        0.003638  0.007521  0.000209  0.001308  0.002133  0.003435  0.299726  \n",
      "5        0.005264  0.012702  0.000150  0.001191  0.002200  0.004818  0.371421  \n",
      "6        0.005537  0.020541  0.000401  0.001764  0.002541  0.004501  0.612784  \n",
      "\n",
      "[7 rows x 56 columns]\n"
     ]
    }
   ],
   "source": [
    "# Get detailed statistics for each cluster\n",
    "detailed_stats = df[['cluster', 'anger', 'disgust', 'fear', 'joy', 'neutral', 'sadness', 'surprise']].groupby('cluster').describe()\n",
    "\n",
    "# Display the detailed statistics\n",
    "print(detailed_stats)"
   ],
   "metadata": {
    "collapsed": false,
    "ExecuteTime": {
     "end_time": "2024-01-04T09:51:34.773079191Z",
     "start_time": "2024-01-04T09:51:34.532695739Z"
    }
   },
   "id": "acbe604d9e76c8d9",
   "execution_count": 14
  },
  {
   "cell_type": "code",
   "execution_count": 12,
   "outputs": [],
   "source": [
    "from transformers import AutoModelForSequenceClassification\n",
    "\n",
    "model = AutoModelForSequenceClassification.from_pretrained(model_name, num_labels=7)"
   ],
   "metadata": {
    "collapsed": false,
    "ExecuteTime": {
     "end_time": "2024-01-03T14:17:21.613509638Z",
     "start_time": "2024-01-03T14:17:20.795544481Z"
    }
   },
   "id": "536c7341cef25aeb"
  },
  {
   "cell_type": "code",
   "execution_count": 13,
   "outputs": [],
   "source": [
    "n = df.shape[0]\n",
    "train_index = int(df.shape[0] * 0.8)\n",
    "\n",
    "train_dict = df.head(train_index)[['cluster', 'clean_text']].rename(columns={\"clean_text\": \"text\", \"cluster\": \"label\"}).to_dict('list')\n",
    "test_dict = df.tail(n - train_index + 1)[['cluster', 'clean_text']].rename(columns={\"clean_text\": \"text\", \"cluster\": \"label\"}).to_dict('list')"
   ],
   "metadata": {
    "collapsed": false,
    "ExecuteTime": {
     "end_time": "2024-01-03T14:17:29.258056979Z",
     "start_time": "2024-01-03T14:17:28.905241132Z"
    }
   },
   "id": "3c4f745a751dc168"
  },
  {
   "cell_type": "code",
   "execution_count": 14,
   "outputs": [],
   "source": [
    "from datasets.dataset_dict import DatasetDict\n",
    "from datasets import Dataset\n",
    "\n",
    "dataset = DatasetDict({\n",
    "    'train': Dataset.from_dict(train_dict),\n",
    "    'test': Dataset.from_dict(test_dict)\n",
    "})\n",
    "# dataset = dataset['train']"
   ],
   "metadata": {
    "collapsed": false,
    "ExecuteTime": {
     "end_time": "2024-01-03T14:17:30.443483123Z",
     "start_time": "2024-01-03T14:17:29.906682745Z"
    }
   },
   "id": "798752075467972c"
  },
  {
   "cell_type": "code",
   "outputs": [
    {
     "data": {
      "text/plain": "Map:   0%|          | 0/797851 [00:00<?, ? examples/s]",
      "application/vnd.jupyter.widget-view+json": {
       "version_major": 2,
       "version_minor": 0,
       "model_id": "6f21385e1e1e46ccad0e700d128d43b6"
      }
     },
     "metadata": {},
     "output_type": "display_data"
    },
    {
     "data": {
      "text/plain": "Map:   0%|          | 0/199464 [00:00<?, ? examples/s]",
      "application/vnd.jupyter.widget-view+json": {
       "version_major": 2,
       "version_minor": 0,
       "model_id": "898214da142942058addb7e9c04fb561"
      }
     },
     "metadata": {},
     "output_type": "display_data"
    }
   ],
   "source": [
    "from transformers import AutoTokenizer\n",
    "\n",
    "# tokenizer = AutoTokenizer.from_pretrained(\"bert-base-cased\")\n",
    "\n",
    "def tokenize_function(examples):\n",
    "    return tokenizer(examples[\"text\"], padding=\"max_length\", truncation=True)\n",
    "\n",
    "tokenized_datasets = dataset.map(tokenize_function, batched=True)"
   ],
   "metadata": {
    "collapsed": false,
    "ExecuteTime": {
     "end_time": "2024-01-03T14:19:09.823864758Z",
     "start_time": "2024-01-03T14:17:31.486509022Z"
    }
   },
   "id": "7e468259b8476866",
   "execution_count": 15
  },
  {
   "cell_type": "code",
   "outputs": [
    {
     "data": {
      "text/plain": "Dataset({\n    features: ['label', 'text', 'input_ids', 'attention_mask'],\n    num_rows: 199464\n})"
     },
     "execution_count": 16,
     "metadata": {},
     "output_type": "execute_result"
    }
   ],
   "source": [
    "tokenized_datasets[\"test\"]"
   ],
   "metadata": {
    "collapsed": false,
    "ExecuteTime": {
     "end_time": "2024-01-03T14:19:37.080927330Z",
     "start_time": "2024-01-03T14:19:37.065265181Z"
    }
   },
   "id": "d771a33f1149bbc2",
   "execution_count": 16
  },
  {
   "cell_type": "code",
   "execution_count": 17,
   "outputs": [],
   "source": [
    "small_train_dataset = tokenized_datasets[\"train\"].shuffle(seed=42).select(range(10000))\n",
    "small_eval_dataset = tokenized_datasets[\"test\"].shuffle(seed=42).select(range(10000))"
   ],
   "metadata": {
    "collapsed": false,
    "ExecuteTime": {
     "end_time": "2024-01-03T14:19:38.345683857Z",
     "start_time": "2024-01-03T14:19:38.189871596Z"
    }
   },
   "id": "2eaafc13022e808a"
  },
  {
   "cell_type": "code",
   "execution_count": 18,
   "outputs": [
    {
     "data": {
      "text/plain": "'michellejieli/emotion_text_classifier'"
     },
     "execution_count": 18,
     "metadata": {},
     "output_type": "execute_result"
    }
   ],
   "source": [
    "from transformers import AutoModelForSequenceClassification\n",
    "# model_name = \"SamLowe/roberta-base-go_emotions\"\n",
    "\n",
    "model = AutoModelForSequenceClassification.from_pretrained(model_name, num_labels=7)\n",
    "     \n",
    "model_name"
   ],
   "metadata": {
    "collapsed": false,
    "ExecuteTime": {
     "end_time": "2024-01-03T14:19:39.560569817Z",
     "start_time": "2024-01-03T14:19:38.845457460Z"
    }
   },
   "id": "f1d01508968a2ba7"
  },
  {
   "cell_type": "code",
   "execution_count": 19,
   "outputs": [
    {
     "name": "stderr",
     "output_type": "stream",
     "text": [
      "2024-01-03 15:19:40.059406: E external/local_xla/xla/stream_executor/cuda/cuda_dnn.cc:9261] Unable to register cuDNN factory: Attempting to register factory for plugin cuDNN when one has already been registered\n",
      "2024-01-03 15:19:40.059522: E external/local_xla/xla/stream_executor/cuda/cuda_fft.cc:607] Unable to register cuFFT factory: Attempting to register factory for plugin cuFFT when one has already been registered\n",
      "2024-01-03 15:19:40.084474: E external/local_xla/xla/stream_executor/cuda/cuda_blas.cc:1515] Unable to register cuBLAS factory: Attempting to register factory for plugin cuBLAS when one has already been registered\n",
      "2024-01-03 15:19:40.134647: I tensorflow/core/platform/cpu_feature_guard.cc:182] This TensorFlow binary is optimized to use available CPU instructions in performance-critical operations.\n",
      "To enable the following instructions: AVX2 FMA, in other operations, rebuild TensorFlow with the appropriate compiler flags.\n",
      "2024-01-03 15:19:41.106576: W tensorflow/compiler/tf2tensorrt/utils/py_utils.cc:38] TF-TRT Warning: Could not find TensorRT\n"
     ]
    }
   ],
   "source": [
    "from transformers import TrainingArguments\n",
    "\n",
    "# training_args = TrainingArguments(output_dir=\"test_trainer\")\n",
    "training_args = TrainingArguments(\n",
    "    output_dir=\"test_trainer\",\n",
    "    num_train_epochs=10,\n",
    "    per_device_train_batch_size=16,\n",
    "    per_device_eval_batch_size=32,\n",
    "    warmup_steps=500,\n",
    "    weight_decay=0.01,\n",
    "    logging_dir='./logs',\n",
    ")\n"
   ],
   "metadata": {
    "collapsed": false,
    "ExecuteTime": {
     "end_time": "2024-01-03T14:19:41.617456444Z",
     "start_time": "2024-01-03T14:19:39.561822545Z"
    }
   },
   "id": "6476a79a3beda3ce"
  },
  {
   "cell_type": "code",
   "execution_count": 20,
   "outputs": [
    {
     "name": "stderr",
     "output_type": "stream",
     "text": [
      "/tmp/ipykernel_5662/1756248672.py:4: FutureWarning: load_metric is deprecated and will be removed in the next major version of datasets. Use 'evaluate.load' instead, from the new library 🤗 Evaluate: https://huggingface.co/docs/evaluate\n",
      "  metric = load_metric(\"accuracy\")\n"
     ]
    }
   ],
   "source": [
    "import numpy as np\n",
    "from datasets import load_metric\n",
    "\n",
    "metric = load_metric(\"accuracy\")\n",
    "     \n"
   ],
   "metadata": {
    "collapsed": false,
    "ExecuteTime": {
     "end_time": "2024-01-03T14:19:44.752965981Z",
     "start_time": "2024-01-03T14:19:43.942108663Z"
    }
   },
   "id": "35987cf03371b504"
  },
  {
   "cell_type": "code",
   "execution_count": 21,
   "outputs": [],
   "source": [
    "def compute_metrics(eval_pred):\n",
    "    logits, labels = eval_pred\n",
    "    predictions = np.argmax(logits, axis=-1)\n",
    "    return metric.compute(predictions=predictions, references=labels)\n",
    "     \n"
   ],
   "metadata": {
    "collapsed": false,
    "ExecuteTime": {
     "end_time": "2024-01-03T14:19:48.327252654Z",
     "start_time": "2024-01-03T14:19:48.315100867Z"
    }
   },
   "id": "feeef9e273167c82"
  },
  {
   "cell_type": "code",
   "execution_count": 22,
   "outputs": [],
   "source": [
    "from transformers import Trainer\n",
    "trainer = Trainer(\n",
    "    model=model,\n",
    "    args=training_args,\n",
    "    train_dataset=small_train_dataset,\n",
    "    eval_dataset=small_eval_dataset,\n",
    "    compute_metrics=compute_metrics,\n",
    ")"
   ],
   "metadata": {
    "collapsed": false,
    "ExecuteTime": {
     "end_time": "2024-01-03T14:19:49.508854130Z",
     "start_time": "2024-01-03T14:19:49.372859896Z"
    }
   },
   "id": "152712c45157e185"
  },
  {
   "cell_type": "code",
   "execution_count": 23,
   "outputs": [
    {
     "data": {
      "text/plain": "<IPython.core.display.HTML object>",
      "text/html": "\n    <div>\n      \n      <progress value='2' max='6250' style='width:300px; height:20px; vertical-align: middle;'></progress>\n      [   2/6250 : < :, Epoch 0.00/10]\n    </div>\n    <table border=\"1\" class=\"dataframe\">\n  <thead>\n <tr style=\"text-align: left;\">\n      <th>Step</th>\n      <th>Training Loss</th>\n    </tr>\n  </thead>\n  <tbody>\n  </tbody>\n</table><p>"
     },
     "metadata": {},
     "output_type": "display_data"
    },
    {
     "data": {
      "text/plain": "TrainOutput(global_step=6250, training_loss=0.9867294775390625, metrics={'train_runtime': 2879.5426, 'train_samples_per_second': 34.728, 'train_steps_per_second': 2.17, 'total_flos': 1.32479210496e+16, 'train_loss': 0.9867294775390625, 'epoch': 10.0})"
     },
     "execution_count": 23,
     "metadata": {},
     "output_type": "execute_result"
    }
   ],
   "source": [
    "trainer.train()"
   ],
   "metadata": {
    "collapsed": false,
    "ExecuteTime": {
     "end_time": "2024-01-03T15:07:53.273431580Z",
     "start_time": "2024-01-03T14:19:53.719637330Z"
    }
   },
   "id": "f60dd58781c10707"
  },
  {
   "cell_type": "code",
   "outputs": [
    {
     "name": "stdout",
     "output_type": "stream",
     "text": [
      "\u0007Finished!\n"
     ]
    }
   ],
   "source": [
    "print('\\aFinished!')"
   ],
   "metadata": {
    "collapsed": false,
    "ExecuteTime": {
     "end_time": "2024-01-03T10:11:09.288361824Z",
     "start_time": "2024-01-03T10:11:09.240581827Z"
    }
   },
   "id": "3291674f8770ea35",
   "execution_count": 28
  },
  {
   "cell_type": "code",
   "outputs": [
    {
     "name": "stdout",
     "output_type": "stream",
     "text": [
      "{'eval_loss': 3.2604260444641113, 'eval_accuracy': 0.2106, 'eval_runtime': 100.4012, 'eval_samples_per_second': 99.6, 'eval_steps_per_second': 3.117, 'epoch': 10.0}\n"
     ]
    }
   ],
   "source": [
    "eval_results = trainer.evaluate(eval_dataset=small_eval_dataset)\n",
    "print(eval_results)"
   ],
   "metadata": {
    "collapsed": false,
    "ExecuteTime": {
     "end_time": "2024-01-03T15:19:12.375458675Z",
     "start_time": "2024-01-03T15:17:31.969829842Z"
    }
   },
   "id": "237af108f03aa1f6",
   "execution_count": 27
  },
  {
   "cell_type": "code",
   "execution_count": 25,
   "outputs": [],
   "source": [
    "trainer.save_model('fine_tuned')"
   ],
   "metadata": {
    "collapsed": false,
    "ExecuteTime": {
     "end_time": "2024-01-03T15:17:16.345121849Z",
     "start_time": "2024-01-03T15:17:15.920238632Z"
    }
   },
   "id": "39ba2ece8d636ae9"
  },
  {
   "cell_type": "code",
   "outputs": [],
   "source": [
    "model.save_pretrained(\"my_fine_tuned_model\")"
   ],
   "metadata": {
    "collapsed": false,
    "ExecuteTime": {
     "end_time": "2024-01-03T15:17:16.850002312Z",
     "start_time": "2024-01-03T15:17:16.431013803Z"
    }
   },
   "id": "74a0f98e5028f09d",
   "execution_count": 26
  },
  {
   "cell_type": "code",
   "execution_count": 2,
   "outputs": [],
   "source": [
    "from transformers import AutoModelForSequenceClassification, AutoTokenizer\n",
    "\n",
    "model_path = \"my_fine_tuned_model\"\n",
    "model = AutoModelForSequenceClassification.from_pretrained(model_path)\n",
    "tokenizer = AutoTokenizer.from_pretrained(\"bert-base-cased\")\n"
   ],
   "metadata": {
    "collapsed": false,
    "ExecuteTime": {
     "end_time": "2024-01-04T13:27:48.877842992Z",
     "start_time": "2024-01-04T13:27:45.691583717Z"
    }
   },
   "id": "871d83e8e3e5e1f8"
  },
  {
   "cell_type": "code",
   "outputs": [],
   "source": [
    "unsupervised = pd.read_parquet('testset.parquet.gzip')\n"
   ],
   "metadata": {
    "collapsed": false,
    "ExecuteTime": {
     "end_time": "2024-01-04T13:27:50.830736293Z",
     "start_time": "2024-01-04T13:27:49.875586194Z"
    }
   },
   "id": "c43c1200cfe1a01",
   "execution_count": 3
  },
  {
   "cell_type": "code",
   "outputs": [
    {
     "data": {
      "text/plain": "             tweetid       tweetcreatedts language  \\\n0       1.520916e+18  2022-05-02 00:00:01       en   \n1       1.520916e+18  2022-05-02 00:00:06       en   \n2       1.520916e+18  2022-05-02 00:00:09       en   \n3       1.520916e+18  2022-05-02 00:00:11       en   \n4       1.520916e+18  2022-05-02 00:00:11       en   \n...              ...                  ...      ...   \n394350  1.531425e+18  2022-05-30 23:59:17       en   \n394351  1.531425e+18  2022-05-30 23:59:24       en   \n394352  1.531425e+18  2022-05-30 23:59:37       en   \n394353  1.531425e+18  2022-05-30 23:59:39       en   \n394354  1.531425e+18  2022-05-30 23:59:40       en   \n\n                             location  \\\n0                              Canada   \n1       Columbus native, SE Ohio now.   \n2                                None   \n3                            Universe   \n4                              lisboa   \n...                               ...   \n394350                           None   \n394351                        Germany   \n394352                          Львів   \n394353                Los Angeles, CA   \n394354                           None   \n\n                                                     text  \\\n0       📸 Russian MANPADS shot missed its target, pict...   \n1       No, no, Noam &gt; Chomsky Calls Trump the 'One...   \n2       The absence of compassion from the Int'l Commu...   \n3       R.I.P Scott and thank you. A British national ...   \n4       @irmi449 @OksanaUkka 💔💔😢😢Russia stole their in...   \n...                                                   ...   \n394350  @KyivIndependent Looters and thieves, the same...   \n394351  @JasminMuj Hard not to agree!\\n\\nBy appeasing ...   \n394352  Tonight #EUCO agreed a sixth package of sancti...   \n394353  Early today in Paris.\\n\\nStay with Ukraine!  W...   \n394354  In two weeks into Russian invasion of #Ukraine...   \n\n                                                 hashtags  \\\n0                                                      []   \n1            [{'text': 'Ukraine', 'indices': [111, 119]}]   \n2              [{'text': 'Tigray', 'indices': [95, 102]}]   \n3              [{'text': 'Ukraine', 'indices': [83, 91]}]   \n4         [{'text': 'SlavaUkraini', 'indices': [75, 88]}]   \n...                                                   ...   \n394350  [{'text': 'ArmUkraineNow', 'indices': [69, 83]...   \n394351  [{'text': 'Balkans', 'indices': [95, 103]}, {'...   \n394352  [{'text': 'EUCO', 'indices': [27, 32]}, {'text...   \n394353  [{'text': 'StandWithUkraine️', 'indices': [83,...   \n394354         [{'text': 'Ukraine', 'indices': [55, 63]}]   \n\n                                               clean_text  \n0       russian manpad shot miss target pictured ukrai...  \n1       noam andgt chomsky call trump one western stat...  \n2       absence compassion int l community towards suf...  \n3       r p scott thank british national kill ukraine ...  \n4       irmi oksanaukka russia stole innocence pay sla...  \n...                                                   ...  \n394350  kyivindependent looter thieve old russian army...  \n394351  jasminmuj hard agree appease andamp even endor...  \n394352  tonight euco agree sixth package sanction allo...  \n394353  early today paris stay ukraine victorious stan...  \n394354  two week russian invasion ukraine icc announce...  \n\n[394291 rows x 7 columns]",
      "text/html": "<div>\n<style scoped>\n    .dataframe tbody tr th:only-of-type {\n        vertical-align: middle;\n    }\n\n    .dataframe tbody tr th {\n        vertical-align: top;\n    }\n\n    .dataframe thead th {\n        text-align: right;\n    }\n</style>\n<table border=\"1\" class=\"dataframe\">\n  <thead>\n    <tr style=\"text-align: right;\">\n      <th></th>\n      <th>tweetid</th>\n      <th>tweetcreatedts</th>\n      <th>language</th>\n      <th>location</th>\n      <th>text</th>\n      <th>hashtags</th>\n      <th>clean_text</th>\n    </tr>\n  </thead>\n  <tbody>\n    <tr>\n      <th>0</th>\n      <td>1.520916e+18</td>\n      <td>2022-05-02 00:00:01</td>\n      <td>en</td>\n      <td>Canada</td>\n      <td>📸 Russian MANPADS shot missed its target, pict...</td>\n      <td>[]</td>\n      <td>russian manpad shot miss target pictured ukrai...</td>\n    </tr>\n    <tr>\n      <th>1</th>\n      <td>1.520916e+18</td>\n      <td>2022-05-02 00:00:06</td>\n      <td>en</td>\n      <td>Columbus native, SE Ohio now.</td>\n      <td>No, no, Noam &amp;gt; Chomsky Calls Trump the 'One...</td>\n      <td>[{'text': 'Ukraine', 'indices': [111, 119]}]</td>\n      <td>noam andgt chomsky call trump one western stat...</td>\n    </tr>\n    <tr>\n      <th>2</th>\n      <td>1.520916e+18</td>\n      <td>2022-05-02 00:00:09</td>\n      <td>en</td>\n      <td>None</td>\n      <td>The absence of compassion from the Int'l Commu...</td>\n      <td>[{'text': 'Tigray', 'indices': [95, 102]}]</td>\n      <td>absence compassion int l community towards suf...</td>\n    </tr>\n    <tr>\n      <th>3</th>\n      <td>1.520916e+18</td>\n      <td>2022-05-02 00:00:11</td>\n      <td>en</td>\n      <td>Universe</td>\n      <td>R.I.P Scott and thank you. A British national ...</td>\n      <td>[{'text': 'Ukraine', 'indices': [83, 91]}]</td>\n      <td>r p scott thank british national kill ukraine ...</td>\n    </tr>\n    <tr>\n      <th>4</th>\n      <td>1.520916e+18</td>\n      <td>2022-05-02 00:00:11</td>\n      <td>en</td>\n      <td>lisboa</td>\n      <td>@irmi449 @OksanaUkka 💔💔😢😢Russia stole their in...</td>\n      <td>[{'text': 'SlavaUkraini', 'indices': [75, 88]}]</td>\n      <td>irmi oksanaukka russia stole innocence pay sla...</td>\n    </tr>\n    <tr>\n      <th>...</th>\n      <td>...</td>\n      <td>...</td>\n      <td>...</td>\n      <td>...</td>\n      <td>...</td>\n      <td>...</td>\n      <td>...</td>\n    </tr>\n    <tr>\n      <th>394350</th>\n      <td>1.531425e+18</td>\n      <td>2022-05-30 23:59:17</td>\n      <td>en</td>\n      <td>None</td>\n      <td>@KyivIndependent Looters and thieves, the same...</td>\n      <td>[{'text': 'ArmUkraineNow', 'indices': [69, 83]...</td>\n      <td>kyivindependent looter thieve old russian army...</td>\n    </tr>\n    <tr>\n      <th>394351</th>\n      <td>1.531425e+18</td>\n      <td>2022-05-30 23:59:24</td>\n      <td>en</td>\n      <td>Germany</td>\n      <td>@JasminMuj Hard not to agree!\\n\\nBy appeasing ...</td>\n      <td>[{'text': 'Balkans', 'indices': [95, 103]}, {'...</td>\n      <td>jasminmuj hard agree appease andamp even endor...</td>\n    </tr>\n    <tr>\n      <th>394352</th>\n      <td>1.531425e+18</td>\n      <td>2022-05-30 23:59:37</td>\n      <td>en</td>\n      <td>Львів</td>\n      <td>Tonight #EUCO agreed a sixth package of sancti...</td>\n      <td>[{'text': 'EUCO', 'indices': [27, 32]}, {'text...</td>\n      <td>tonight euco agree sixth package sanction allo...</td>\n    </tr>\n    <tr>\n      <th>394353</th>\n      <td>1.531425e+18</td>\n      <td>2022-05-30 23:59:39</td>\n      <td>en</td>\n      <td>Los Angeles, CA</td>\n      <td>Early today in Paris.\\n\\nStay with Ukraine!  W...</td>\n      <td>[{'text': 'StandWithUkraine️', 'indices': [83,...</td>\n      <td>early today paris stay ukraine victorious stan...</td>\n    </tr>\n    <tr>\n      <th>394354</th>\n      <td>1.531425e+18</td>\n      <td>2022-05-30 23:59:40</td>\n      <td>en</td>\n      <td>None</td>\n      <td>In two weeks into Russian invasion of #Ukraine...</td>\n      <td>[{'text': 'Ukraine', 'indices': [55, 63]}]</td>\n      <td>two week russian invasion ukraine icc announce...</td>\n    </tr>\n  </tbody>\n</table>\n<p>394291 rows × 7 columns</p>\n</div>"
     },
     "execution_count": 4,
     "metadata": {},
     "output_type": "execute_result"
    }
   ],
   "source": [
    "unsupervised"
   ],
   "metadata": {
    "collapsed": false,
    "ExecuteTime": {
     "end_time": "2024-01-04T13:27:51.349539707Z",
     "start_time": "2024-01-04T13:27:51.315733894Z"
    }
   },
   "id": "da7e4ed336ebc58d",
   "execution_count": 4
  },
  {
   "cell_type": "code",
   "outputs": [],
   "source": [
    "# unsupervised.to_parquet('results.parquet.gzip', compression='gzip')"
   ],
   "metadata": {
    "collapsed": false,
    "ExecuteTime": {
     "end_time": "2024-01-04T13:27:54.859967708Z",
     "start_time": "2024-01-04T13:27:54.834597449Z"
    }
   },
   "id": "bfe6d8a451526000",
   "execution_count": 5
  },
  {
   "cell_type": "markdown",
   "source": [
    "# Test"
   ],
   "metadata": {
    "collapsed": false
   },
   "id": "8d28ccf6cb521c84"
  },
  {
   "cell_type": "code",
   "outputs": [],
   "source": [
    "import os\n",
    "os.environ[\"PYTORCH_CUDA_ALLOC_CONF\"] = \"max_split_size_mb:8000\"\n"
   ],
   "metadata": {
    "collapsed": false,
    "ExecuteTime": {
     "end_time": "2024-01-04T13:27:58.195616901Z",
     "start_time": "2024-01-04T13:27:58.187163666Z"
    }
   },
   "id": "9f6977590606fb73",
   "execution_count": 6
  },
  {
   "cell_type": "code",
   "outputs": [],
   "source": [
    "import torch\n"
   ],
   "metadata": {
    "collapsed": false,
    "ExecuteTime": {
     "end_time": "2024-01-04T13:27:59.193595188Z",
     "start_time": "2024-01-04T13:27:59.170413950Z"
    }
   },
   "id": "f1f05d706ca045ae",
   "execution_count": 7
  },
  {
   "cell_type": "code",
   "outputs": [],
   "source": [
    "texts = unsupervised['clean_text'].tolist()\n",
    "torch.cuda.empty_cache()\n",
    "# Tokenize the texts\n",
    "tokenized_inputs = tokenizer(texts, padding=True, truncation=True, return_tensors=\"pt\", max_length=400)\n",
    "\n",
    "# Move your model to the appropriate device (GPU or CPU)\n",
    "device = torch.device(\"cuda\" if torch.cuda.is_available() else \"cpu\")\n",
    "model.to(device)\n",
    "\n",
    "# Prepare data for model\n",
    "input_ids = tokenized_inputs['input_ids'].to(device)\n",
    "attention_mask = tokenized_inputs['attention_mask'].to(device)\n",
    "# \n",
    "# # Predict\n",
    "# model.eval()\n",
    "# with torch.no_grad():\n",
    "#     outputs = model(input_ids, attention_mask=attention_mask)\n",
    "#     predictions = torch.argmax(outputs.logits, dim=1)"
   ],
   "metadata": {
    "collapsed": false,
    "ExecuteTime": {
     "end_time": "2024-01-04T13:29:00.327850973Z",
     "start_time": "2024-01-04T13:28:00.140125907Z"
    }
   },
   "id": "a7d90b173e336825",
   "execution_count": 8
  },
  {
   "cell_type": "code",
   "outputs": [
    {
     "name": "stderr",
     "output_type": "stream",
     "text": [
      "100%|██████████| 12322/12322 [31:38<00:00,  6.49it/s]\n"
     ]
    }
   ],
   "source": [
    "# Define a batch size\n",
    "batch_size = 32  # You can adjust this based on your GPU's memory\n",
    "\n",
    "# Split the data into batches\n",
    "def batchify(data, batch_size):\n",
    "    return [data[i:i + batch_size] for i in range(0, len(data), batch_size)]\n",
    "\n",
    "input_batches = batchify(input_ids, batch_size)\n",
    "mask_batches = batchify(attention_mask, batch_size)\n",
    "\n",
    "# Process each batch and collect predictions\n",
    "predictions = []\n",
    "for i in tqdm(range(len(input_batches))):\n",
    "    batch_inputs = input_batches[i].to(device)\n",
    "    batch_masks = mask_batches[i].to(device)\n",
    "\n",
    "    with torch.no_grad():\n",
    "        outputs = model(batch_inputs, attention_mask=batch_masks)\n",
    "        batch_predictions = torch.argmax(outputs.logits, dim=1)\n",
    "        predictions.extend(batch_predictions.cpu().numpy())\n",
    "\n",
    "# `predictions` now contains the results for all texts\n"
   ],
   "metadata": {
    "collapsed": false,
    "ExecuteTime": {
     "end_time": "2024-01-04T14:00:55.345181087Z",
     "start_time": "2024-01-04T13:29:16.386829229Z"
    }
   },
   "id": "42e82b27d88fafc9",
   "execution_count": 9
  },
  {
   "cell_type": "code",
   "outputs": [],
   "source": [
    "# Convert predictions to CPU for compatibility with Pandas\n",
    "# predictions = predictions.cpu().numpy()\n",
    "\n",
    "# Add to DataFrame\n",
    "unsupervised['cluster'] = predictions"
   ],
   "metadata": {
    "collapsed": false,
    "ExecuteTime": {
     "end_time": "2024-01-04T14:00:57.017217094Z",
     "start_time": "2024-01-04T14:00:56.353803728Z"
    }
   },
   "id": "435d4247c56bbc67",
   "execution_count": 10
  },
  {
   "cell_type": "code",
   "outputs": [
    {
     "data": {
      "text/plain": "[2,\n 2,\n 2,\n 6,\n 2,\n 6,\n 2,\n 3,\n 2,\n 2,\n 2,\n 6,\n 3,\n 6,\n 2,\n 2,\n 2,\n 2,\n 2,\n 2,\n 2,\n 2,\n 6,\n 2,\n 2,\n 2,\n 1,\n 0,\n 2,\n 0,\n 5,\n 5,\n 2,\n 2,\n 2,\n 2,\n 2,\n 2,\n 2,\n 2,\n 2,\n 2,\n 2,\n 2,\n 2,\n 3,\n 2,\n 2,\n 2,\n 6,\n 2,\n 3,\n 2,\n 6,\n 0,\n 2,\n 2,\n 2,\n 6,\n 2,\n 2,\n 2,\n 0,\n 2,\n 6,\n 6,\n 3,\n 2,\n 2,\n 2,\n 2,\n 0,\n 2,\n 6,\n 3,\n 3,\n 2,\n 2,\n 2,\n 2,\n 2,\n 0,\n 1,\n 6,\n 2,\n 6,\n 3,\n 3,\n 2,\n 5,\n 6,\n 0,\n 2,\n 3,\n 0,\n 2,\n 6,\n 2,\n 6,\n 5,\n 5,\n 2,\n 6,\n 6,\n 0,\n 0,\n 6,\n 6,\n 3,\n 6,\n 6,\n 2,\n 2,\n 1,\n 5,\n 2,\n 6,\n 6,\n 2,\n 2,\n 6,\n 5,\n 2,\n 2,\n 2,\n 3,\n 2,\n 2,\n 2,\n 3,\n 2,\n 6,\n 6,\n 2,\n 2,\n 2,\n 2,\n 1,\n 2,\n 6,\n 2,\n 6,\n 2,\n 6,\n 5,\n 2,\n 2,\n 2,\n 2,\n 0,\n 2,\n 2,\n 2,\n 6,\n 3,\n 2,\n 0,\n 0,\n 0,\n 6,\n 0,\n 6,\n 6,\n 6,\n 6,\n 2,\n 6,\n 1,\n 1,\n 0,\n 2,\n 6,\n 3,\n 2,\n 2,\n 0,\n 2,\n 2,\n 1,\n 2,\n 6,\n 6,\n 6,\n 1,\n 1,\n 1,\n 2,\n 2,\n 0,\n 2,\n 6,\n 2,\n 2,\n 2,\n 2,\n 0,\n 4,\n 5,\n 6,\n 6,\n 6,\n 2,\n 2,\n 2,\n 6,\n 2,\n 2,\n 2,\n 2,\n 2,\n 2,\n 2,\n 3,\n 2,\n 2,\n 2,\n 6,\n 3,\n 2,\n 2,\n 6,\n 2,\n 1,\n 6,\n 6,\n 6,\n 2,\n 6,\n 0,\n 6,\n 0,\n 6,\n 2,\n 2,\n 2,\n 0,\n 2,\n 0,\n 5,\n 2,\n 2,\n 2,\n 3,\n 6,\n 2,\n 2,\n 2,\n 6,\n 2,\n 2,\n 0,\n 0,\n 0,\n 2,\n 2,\n 2,\n 2,\n 2,\n 6,\n 6,\n 2,\n 2,\n 2,\n 0,\n 1,\n 0,\n 2,\n 6,\n 2,\n 2,\n 6,\n 2,\n 2,\n 1,\n 2,\n 2,\n 2,\n 2,\n 2,\n 1,\n 2,\n 2,\n 2,\n 2,\n 2,\n 2,\n 3,\n 6,\n 2,\n 2,\n 2,\n 6,\n 2,\n 2,\n 6,\n 2,\n 6,\n 2,\n 2,\n 2,\n 4,\n 0,\n 6,\n 2,\n 2,\n 0,\n 5,\n 0,\n 6,\n 2,\n 2,\n 2,\n 6,\n 2,\n 2,\n 6,\n 2,\n 2,\n 0,\n 6,\n 2,\n 6,\n 6,\n 3,\n 1,\n 2,\n 6,\n 2,\n 3,\n 4,\n 2,\n 0,\n 6,\n 6,\n 0,\n 4,\n 2,\n 6,\n 3,\n 2,\n 6,\n 4,\n 2,\n 2,\n 2,\n 3,\n 6,\n 2,\n 3,\n 2,\n 0,\n 2,\n 2,\n 2,\n 0,\n 2,\n 4,\n 6,\n 2,\n 6,\n 6,\n 2,\n 0,\n 4,\n 0,\n 2,\n 0,\n 2,\n 0,\n 2,\n 0,\n 6,\n 3,\n 6,\n 4,\n 0,\n 0,\n 6,\n 6,\n 0,\n 2,\n 6,\n 6,\n 6,\n 0,\n 6,\n 0,\n 0,\n 6,\n 2,\n 6,\n 0,\n 6,\n 6,\n 6,\n 2,\n 6,\n 2,\n 6,\n 6,\n 2,\n 2,\n 2,\n 2,\n 2,\n 3,\n 1,\n 6,\n 1,\n 2,\n 2,\n 1,\n 1,\n 6,\n 1,\n 2,\n 2,\n 2,\n 2,\n 1,\n 6,\n 1,\n 3,\n 4,\n 2,\n 6,\n 0,\n 6,\n 2,\n 6,\n 4,\n 2,\n 2,\n 6,\n 2,\n 1,\n 6,\n 4,\n 2,\n 0,\n 0,\n 2,\n 0,\n 2,\n 3,\n 6,\n 2,\n 2,\n 2,\n 2,\n 2,\n 0,\n 6,\n 1,\n 6,\n 3,\n 0,\n 2,\n 2,\n 0,\n 6,\n 6,\n 2,\n 2,\n 1,\n 6,\n 2,\n 1,\n 6,\n 4,\n 2,\n 2,\n 6,\n 6,\n 6,\n 2,\n 6,\n 0,\n 1,\n 2,\n 6,\n 6,\n 0,\n 6,\n 6,\n 3,\n 2,\n 4,\n 2,\n 6,\n 6,\n 2,\n 2,\n 3,\n 2,\n 1,\n 6,\n 6,\n 1,\n 0,\n 2,\n 2,\n 4,\n 1,\n 2,\n 6,\n 0,\n 6,\n 6,\n 6,\n 6,\n 6,\n 1,\n 6,\n 2,\n 6,\n 2,\n 6,\n 1,\n 6,\n 0,\n 1,\n 3,\n 2,\n 2,\n 2,\n 2,\n 6,\n 5,\n 6,\n 2,\n 2,\n 6,\n 2,\n 2,\n 0,\n 2,\n 2,\n 2,\n 2,\n 2,\n 4,\n 2,\n 5,\n 6,\n 6,\n 0,\n 2,\n 6,\n 6,\n 6,\n 4,\n 4,\n 2,\n 2,\n 6,\n 2,\n 6,\n 5,\n 6,\n 0,\n 2,\n 0,\n 6,\n 2,\n 2,\n 2,\n 4,\n 6,\n 6,\n 1,\n 2,\n 6,\n 2,\n 6,\n 6,\n 0,\n 2,\n 6,\n 6,\n 4,\n 2,\n 3,\n 6,\n 2,\n 2,\n 6,\n 0,\n 6,\n 0,\n 2,\n 2,\n 2,\n 6,\n 2,\n 6,\n 0,\n 5,\n 2,\n 6,\n 6,\n 2,\n 2,\n 6,\n 2,\n 3,\n 2,\n 0,\n 2,\n 1,\n 0,\n 6,\n 2,\n 2,\n 4,\n 2,\n 3,\n 6,\n 6,\n 6,\n 6,\n 4,\n 0,\n 1,\n 6,\n 2,\n 2,\n 6,\n 2,\n 6,\n 6,\n 6,\n 2,\n 6,\n 0,\n 5,\n 2,\n 2,\n 2,\n 2,\n 2,\n 2,\n 2,\n 2,\n 6,\n 2,\n 6,\n 2,\n 2,\n 0,\n 2,\n 2,\n 6,\n 6,\n 2,\n 2,\n 6,\n 2,\n 0,\n 6,\n 2,\n 0,\n 2,\n 2,\n 6,\n 2,\n 6,\n 3,\n 2,\n 6,\n 6,\n 2,\n 2,\n 1,\n 3,\n 5,\n 6,\n 6,\n 6,\n 3,\n 6,\n 6,\n 6,\n 2,\n 6,\n 1,\n 4,\n 6,\n 2,\n 2,\n 2,\n 6,\n 2,\n 0,\n 6,\n 0,\n 2,\n 2,\n 2,\n 2,\n 6,\n 0,\n 0,\n 2,\n 6,\n 6,\n 2,\n 0,\n 2,\n 0,\n 2,\n 6,\n 2,\n 6,\n 2,\n 6,\n 2,\n 2,\n 6,\n 2,\n 6,\n 0,\n 6,\n 2,\n 6,\n 6,\n 1,\n 2,\n 2,\n 4,\n 6,\n 2,\n 6,\n 6,\n 2,\n 1,\n 6,\n 6,\n 6,\n 2,\n 2,\n 2,\n 2,\n 2,\n 2,\n 2,\n 2,\n 5,\n 0,\n 5,\n 0,\n 2,\n 0,\n 0,\n 2,\n 1,\n 6,\n 2,\n 3,\n 6,\n 2,\n 3,\n 2,\n 0,\n 2,\n 6,\n 3,\n 6,\n 2,\n 4,\n 6,\n 2,\n 6,\n 2,\n 2,\n 6,\n 6,\n 3,\n 3,\n 1,\n 1,\n 2,\n 6,\n 3,\n 1,\n 6,\n 6,\n 2,\n 2,\n 2,\n 1,\n 0,\n 1,\n 3,\n 1,\n 6,\n 6,\n 0,\n 2,\n 2,\n 2,\n 3,\n 2,\n 2,\n 0,\n 2,\n 6,\n 2,\n 6,\n 2,\n 2,\n 2,\n 1,\n 2,\n 6,\n 6,\n 6,\n 2,\n 2,\n 2,\n 2,\n 1,\n 0,\n 2,\n 6,\n 2,\n 2,\n 6,\n 6,\n 6,\n 6,\n 2,\n 2,\n 5,\n 2,\n 6,\n 2,\n 1,\n 6,\n 3,\n 2,\n 6,\n 6,\n 2,\n 2,\n 6,\n 0,\n 6,\n 6,\n 6,\n 2,\n 2,\n 6,\n 0,\n 3,\n 2,\n 1,\n 6,\n 6,\n 2,\n 2,\n 5,\n 6,\n 0,\n 2,\n 2,\n 2,\n 2,\n 1,\n 5,\n 6,\n 0,\n 3,\n 0,\n 2,\n 2,\n 2,\n 2,\n 2,\n 3,\n 0,\n 2,\n 1,\n 1,\n 0,\n 2,\n 6,\n 6,\n 6,\n 2,\n 0,\n 2,\n 2,\n 2,\n 2,\n 1,\n 2,\n 0,\n 2,\n 2,\n 2,\n 2,\n 2,\n 2,\n 1,\n 6,\n 6,\n 2,\n 2,\n 0,\n 2,\n 6,\n 0,\n 2,\n 2,\n 4,\n 2,\n 2,\n 0,\n 2,\n 0,\n 2,\n 2,\n 3,\n 4,\n 2,\n 6,\n 2,\n 2,\n 2,\n 0,\n 6,\n 2,\n 2,\n 2,\n 6,\n 2,\n 2,\n 3,\n 2,\n 2,\n 4,\n 2,\n 2,\n 2,\n 6,\n 6,\n 2,\n 2,\n 3,\n 6,\n 6,\n 2,\n 2,\n 3,\n 2,\n 1,\n 5,\n 0,\n 0,\n 2,\n 2,\n 3,\n 6,\n 6,\n 6,\n 1,\n 2,\n 1,\n 2,\n 6,\n 2,\n 2,\n 3,\n 2,\n 2,\n 0,\n 1,\n 2,\n 3,\n 6,\n 5,\n 2,\n 2,\n 2,\n 0,\n 2,\n 1,\n 0,\n 3,\n 6,\n 0,\n 1,\n 1,\n 6,\n 3,\n 6,\n 3,\n 6,\n 2,\n ...]"
     },
     "execution_count": 11,
     "metadata": {},
     "output_type": "execute_result"
    }
   ],
   "source": [
    "predictions"
   ],
   "metadata": {
    "collapsed": false,
    "ExecuteTime": {
     "end_time": "2024-01-04T14:00:57.566800268Z",
     "start_time": "2024-01-04T14:00:57.551985949Z"
    }
   },
   "id": "5eb360a635205a0a",
   "execution_count": 11
  },
  {
   "cell_type": "code",
   "outputs": [
    {
     "data": {
      "text/plain": "             tweetid       tweetcreatedts language  \\\n0       1.520916e+18  2022-05-02 00:00:01       en   \n1       1.520916e+18  2022-05-02 00:00:06       en   \n2       1.520916e+18  2022-05-02 00:00:09       en   \n3       1.520916e+18  2022-05-02 00:00:11       en   \n4       1.520916e+18  2022-05-02 00:00:11       en   \n...              ...                  ...      ...   \n394350  1.531425e+18  2022-05-30 23:59:17       en   \n394351  1.531425e+18  2022-05-30 23:59:24       en   \n394352  1.531425e+18  2022-05-30 23:59:37       en   \n394353  1.531425e+18  2022-05-30 23:59:39       en   \n394354  1.531425e+18  2022-05-30 23:59:40       en   \n\n                             location  \\\n0                              Canada   \n1       Columbus native, SE Ohio now.   \n2                                None   \n3                            Universe   \n4                              lisboa   \n...                               ...   \n394350                           None   \n394351                        Germany   \n394352                          Львів   \n394353                Los Angeles, CA   \n394354                           None   \n\n                                                     text  \\\n0       📸 Russian MANPADS shot missed its target, pict...   \n1       No, no, Noam &gt; Chomsky Calls Trump the 'One...   \n2       The absence of compassion from the Int'l Commu...   \n3       R.I.P Scott and thank you. A British national ...   \n4       @irmi449 @OksanaUkka 💔💔😢😢Russia stole their in...   \n...                                                   ...   \n394350  @KyivIndependent Looters and thieves, the same...   \n394351  @JasminMuj Hard not to agree!\\n\\nBy appeasing ...   \n394352  Tonight #EUCO agreed a sixth package of sancti...   \n394353  Early today in Paris.\\n\\nStay with Ukraine!  W...   \n394354  In two weeks into Russian invasion of #Ukraine...   \n\n                                                 hashtags  \\\n0                                                      []   \n1            [{'text': 'Ukraine', 'indices': [111, 119]}]   \n2              [{'text': 'Tigray', 'indices': [95, 102]}]   \n3              [{'text': 'Ukraine', 'indices': [83, 91]}]   \n4         [{'text': 'SlavaUkraini', 'indices': [75, 88]}]   \n...                                                   ...   \n394350  [{'text': 'ArmUkraineNow', 'indices': [69, 83]...   \n394351  [{'text': 'Balkans', 'indices': [95, 103]}, {'...   \n394352  [{'text': 'EUCO', 'indices': [27, 32]}, {'text...   \n394353  [{'text': 'StandWithUkraine️', 'indices': [83,...   \n394354         [{'text': 'Ukraine', 'indices': [55, 63]}]   \n\n                                               clean_text  cluster  \n0       russian manpad shot miss target pictured ukrai...        2  \n1       noam andgt chomsky call trump one western stat...        2  \n2       absence compassion int l community towards suf...        2  \n3       r p scott thank british national kill ukraine ...        6  \n4       irmi oksanaukka russia stole innocence pay sla...        2  \n...                                                   ...      ...  \n394350  kyivindependent looter thieve old russian army...        0  \n394351  jasminmuj hard agree appease andamp even endor...        3  \n394352  tonight euco agree sixth package sanction allo...        2  \n394353  early today paris stay ukraine victorious stan...        2  \n394354  two week russian invasion ukraine icc announce...        2  \n\n[394291 rows x 8 columns]",
      "text/html": "<div>\n<style scoped>\n    .dataframe tbody tr th:only-of-type {\n        vertical-align: middle;\n    }\n\n    .dataframe tbody tr th {\n        vertical-align: top;\n    }\n\n    .dataframe thead th {\n        text-align: right;\n    }\n</style>\n<table border=\"1\" class=\"dataframe\">\n  <thead>\n    <tr style=\"text-align: right;\">\n      <th></th>\n      <th>tweetid</th>\n      <th>tweetcreatedts</th>\n      <th>language</th>\n      <th>location</th>\n      <th>text</th>\n      <th>hashtags</th>\n      <th>clean_text</th>\n      <th>cluster</th>\n    </tr>\n  </thead>\n  <tbody>\n    <tr>\n      <th>0</th>\n      <td>1.520916e+18</td>\n      <td>2022-05-02 00:00:01</td>\n      <td>en</td>\n      <td>Canada</td>\n      <td>📸 Russian MANPADS shot missed its target, pict...</td>\n      <td>[]</td>\n      <td>russian manpad shot miss target pictured ukrai...</td>\n      <td>2</td>\n    </tr>\n    <tr>\n      <th>1</th>\n      <td>1.520916e+18</td>\n      <td>2022-05-02 00:00:06</td>\n      <td>en</td>\n      <td>Columbus native, SE Ohio now.</td>\n      <td>No, no, Noam &amp;gt; Chomsky Calls Trump the 'One...</td>\n      <td>[{'text': 'Ukraine', 'indices': [111, 119]}]</td>\n      <td>noam andgt chomsky call trump one western stat...</td>\n      <td>2</td>\n    </tr>\n    <tr>\n      <th>2</th>\n      <td>1.520916e+18</td>\n      <td>2022-05-02 00:00:09</td>\n      <td>en</td>\n      <td>None</td>\n      <td>The absence of compassion from the Int'l Commu...</td>\n      <td>[{'text': 'Tigray', 'indices': [95, 102]}]</td>\n      <td>absence compassion int l community towards suf...</td>\n      <td>2</td>\n    </tr>\n    <tr>\n      <th>3</th>\n      <td>1.520916e+18</td>\n      <td>2022-05-02 00:00:11</td>\n      <td>en</td>\n      <td>Universe</td>\n      <td>R.I.P Scott and thank you. A British national ...</td>\n      <td>[{'text': 'Ukraine', 'indices': [83, 91]}]</td>\n      <td>r p scott thank british national kill ukraine ...</td>\n      <td>6</td>\n    </tr>\n    <tr>\n      <th>4</th>\n      <td>1.520916e+18</td>\n      <td>2022-05-02 00:00:11</td>\n      <td>en</td>\n      <td>lisboa</td>\n      <td>@irmi449 @OksanaUkka 💔💔😢😢Russia stole their in...</td>\n      <td>[{'text': 'SlavaUkraini', 'indices': [75, 88]}]</td>\n      <td>irmi oksanaukka russia stole innocence pay sla...</td>\n      <td>2</td>\n    </tr>\n    <tr>\n      <th>...</th>\n      <td>...</td>\n      <td>...</td>\n      <td>...</td>\n      <td>...</td>\n      <td>...</td>\n      <td>...</td>\n      <td>...</td>\n      <td>...</td>\n    </tr>\n    <tr>\n      <th>394350</th>\n      <td>1.531425e+18</td>\n      <td>2022-05-30 23:59:17</td>\n      <td>en</td>\n      <td>None</td>\n      <td>@KyivIndependent Looters and thieves, the same...</td>\n      <td>[{'text': 'ArmUkraineNow', 'indices': [69, 83]...</td>\n      <td>kyivindependent looter thieve old russian army...</td>\n      <td>0</td>\n    </tr>\n    <tr>\n      <th>394351</th>\n      <td>1.531425e+18</td>\n      <td>2022-05-30 23:59:24</td>\n      <td>en</td>\n      <td>Germany</td>\n      <td>@JasminMuj Hard not to agree!\\n\\nBy appeasing ...</td>\n      <td>[{'text': 'Balkans', 'indices': [95, 103]}, {'...</td>\n      <td>jasminmuj hard agree appease andamp even endor...</td>\n      <td>3</td>\n    </tr>\n    <tr>\n      <th>394352</th>\n      <td>1.531425e+18</td>\n      <td>2022-05-30 23:59:37</td>\n      <td>en</td>\n      <td>Львів</td>\n      <td>Tonight #EUCO agreed a sixth package of sancti...</td>\n      <td>[{'text': 'EUCO', 'indices': [27, 32]}, {'text...</td>\n      <td>tonight euco agree sixth package sanction allo...</td>\n      <td>2</td>\n    </tr>\n    <tr>\n      <th>394353</th>\n      <td>1.531425e+18</td>\n      <td>2022-05-30 23:59:39</td>\n      <td>en</td>\n      <td>Los Angeles, CA</td>\n      <td>Early today in Paris.\\n\\nStay with Ukraine!  W...</td>\n      <td>[{'text': 'StandWithUkraine️', 'indices': [83,...</td>\n      <td>early today paris stay ukraine victorious stan...</td>\n      <td>2</td>\n    </tr>\n    <tr>\n      <th>394354</th>\n      <td>1.531425e+18</td>\n      <td>2022-05-30 23:59:40</td>\n      <td>en</td>\n      <td>None</td>\n      <td>In two weeks into Russian invasion of #Ukraine...</td>\n      <td>[{'text': 'Ukraine', 'indices': [55, 63]}]</td>\n      <td>two week russian invasion ukraine icc announce...</td>\n      <td>2</td>\n    </tr>\n  </tbody>\n</table>\n<p>394291 rows × 8 columns</p>\n</div>"
     },
     "execution_count": 12,
     "metadata": {},
     "output_type": "execute_result"
    }
   ],
   "source": [
    "unsupervised"
   ],
   "metadata": {
    "collapsed": false,
    "ExecuteTime": {
     "end_time": "2024-01-04T14:00:58.525162820Z",
     "start_time": "2024-01-04T14:00:58.508383107Z"
    }
   },
   "id": "d3de9d83441218a5",
   "execution_count": 12
  },
  {
   "cell_type": "code",
   "outputs": [
    {
     "data": {
      "text/plain": "<Figure size 640x480 with 1 Axes>",
      "image/png": "[encoded data removed]"
     },
     "metadata": {},
     "output_type": "display_data"
    }
   ],
   "source": [
    "hist = unsupervised['cluster'].hist(bins=7)\n"
   ],
   "metadata": {
    "collapsed": false,
    "ExecuteTime": {
     "end_time": "2024-01-04T14:01:00.291296491Z",
     "start_time": "2024-01-04T14:01:00.012069906Z"
    }
   },
   "id": "da20ec5b40740054",
   "execution_count": 13
  },
  {
   "cell_type": "code",
   "outputs": [],
   "source": [
    "unsupervised.to_csv('results.csv')"
   ],
   "metadata": {
    "collapsed": false,
    "ExecuteTime": {
     "end_time": "2024-01-04T14:01:06.611279250Z",
     "start_time": "2024-01-04T14:01:03.042701864Z"
    }
   },
   "id": "570d11d51ce77ccd",
   "execution_count": 14
  },
  {
   "cell_type": "code",
   "outputs": [
    {
     "data": {
      "text/plain": "             tweetid       tweetcreatedts language  \\\n0       1.520916e+18  2022-05-02 00:00:01       en   \n1       1.520916e+18  2022-05-02 00:00:06       en   \n2       1.520916e+18  2022-05-02 00:00:09       en   \n3       1.520916e+18  2022-05-02 00:00:11       en   \n4       1.520916e+18  2022-05-02 00:00:11       en   \n...              ...                  ...      ...   \n394350  1.531425e+18  2022-05-30 23:59:17       en   \n394351  1.531425e+18  2022-05-30 23:59:24       en   \n394352  1.531425e+18  2022-05-30 23:59:37       en   \n394353  1.531425e+18  2022-05-30 23:59:39       en   \n394354  1.531425e+18  2022-05-30 23:59:40       en   \n\n                             location  \\\n0                              Canada   \n1       Columbus native, SE Ohio now.   \n2                                None   \n3                            Universe   \n4                              lisboa   \n...                               ...   \n394350                           None   \n394351                        Germany   \n394352                          Львів   \n394353                Los Angeles, CA   \n394354                           None   \n\n                                                     text  \\\n0       📸 Russian MANPADS shot missed its target, pict...   \n1       No, no, Noam &gt; Chomsky Calls Trump the 'One...   \n2       The absence of compassion from the Int'l Commu...   \n3       R.I.P Scott and thank you. A British national ...   \n4       @irmi449 @OksanaUkka 💔💔😢😢Russia stole their in...   \n...                                                   ...   \n394350  @KyivIndependent Looters and thieves, the same...   \n394351  @JasminMuj Hard not to agree!\\n\\nBy appeasing ...   \n394352  Tonight #EUCO agreed a sixth package of sancti...   \n394353  Early today in Paris.\\n\\nStay with Ukraine!  W...   \n394354  In two weeks into Russian invasion of #Ukraine...   \n\n                                                 hashtags  \\\n0                                                      []   \n1            [{'text': 'Ukraine', 'indices': [111, 119]}]   \n2              [{'text': 'Tigray', 'indices': [95, 102]}]   \n3              [{'text': 'Ukraine', 'indices': [83, 91]}]   \n4         [{'text': 'SlavaUkraini', 'indices': [75, 88]}]   \n...                                                   ...   \n394350  [{'text': 'ArmUkraineNow', 'indices': [69, 83]...   \n394351  [{'text': 'Balkans', 'indices': [95, 103]}, {'...   \n394352  [{'text': 'EUCO', 'indices': [27, 32]}, {'text...   \n394353  [{'text': 'StandWithUkraine️', 'indices': [83,...   \n394354         [{'text': 'Ukraine', 'indices': [55, 63]}]   \n\n                                               clean_text  cluster  \n0       russian manpad shot miss target pictured ukrai...        2  \n1       noam andgt chomsky call trump one western stat...        2  \n2       absence compassion int l community towards suf...        2  \n3       r p scott thank british national kill ukraine ...        6  \n4       irmi oksanaukka russia stole innocence pay sla...        2  \n...                                                   ...      ...  \n394350  kyivindependent looter thieve old russian army...        0  \n394351  jasminmuj hard agree appease andamp even endor...        3  \n394352  tonight euco agree sixth package sanction allo...        2  \n394353  early today paris stay ukraine victorious stan...        2  \n394354  two week russian invasion ukraine icc announce...        2  \n\n[394291 rows x 8 columns]",
      "text/html": "<div>\n<style scoped>\n    .dataframe tbody tr th:only-of-type {\n        vertical-align: middle;\n    }\n\n    .dataframe tbody tr th {\n        vertical-align: top;\n    }\n\n    .dataframe thead th {\n        text-align: right;\n    }\n</style>\n<table border=\"1\" class=\"dataframe\">\n  <thead>\n    <tr style=\"text-align: right;\">\n      <th></th>\n      <th>tweetid</th>\n      <th>tweetcreatedts</th>\n      <th>language</th>\n      <th>location</th>\n      <th>text</th>\n      <th>hashtags</th>\n      <th>clean_text</th>\n      <th>cluster</th>\n    </tr>\n  </thead>\n  <tbody>\n    <tr>\n      <th>0</th>\n      <td>1.520916e+18</td>\n      <td>2022-05-02 00:00:01</td>\n      <td>en</td>\n      <td>Canada</td>\n      <td>📸 Russian MANPADS shot missed its target, pict...</td>\n      <td>[]</td>\n      <td>russian manpad shot miss target pictured ukrai...</td>\n      <td>2</td>\n    </tr>\n    <tr>\n      <th>1</th>\n      <td>1.520916e+18</td>\n      <td>2022-05-02 00:00:06</td>\n      <td>en</td>\n      <td>Columbus native, SE Ohio now.</td>\n      <td>No, no, Noam &amp;gt; Chomsky Calls Trump the 'One...</td>\n      <td>[{'text': 'Ukraine', 'indices': [111, 119]}]</td>\n      <td>noam andgt chomsky call trump one western stat...</td>\n      <td>2</td>\n    </tr>\n    <tr>\n      <th>2</th>\n      <td>1.520916e+18</td>\n      <td>2022-05-02 00:00:09</td>\n      <td>en</td>\n      <td>None</td>\n      <td>The absence of compassion from the Int'l Commu...</td>\n      <td>[{'text': 'Tigray', 'indices': [95, 102]}]</td>\n      <td>absence compassion int l community towards suf...</td>\n      <td>2</td>\n    </tr>\n    <tr>\n      <th>3</th>\n      <td>1.520916e+18</td>\n      <td>2022-05-02 00:00:11</td>\n      <td>en</td>\n      <td>Universe</td>\n      <td>R.I.P Scott and thank you. A British national ...</td>\n      <td>[{'text': 'Ukraine', 'indices': [83, 91]}]</td>\n      <td>r p scott thank british national kill ukraine ...</td>\n      <td>6</td>\n    </tr>\n    <tr>\n      <th>4</th>\n      <td>1.520916e+18</td>\n      <td>2022-05-02 00:00:11</td>\n      <td>en</td>\n      <td>lisboa</td>\n      <td>@irmi449 @OksanaUkka 💔💔😢😢Russia stole their in...</td>\n      <td>[{'text': 'SlavaUkraini', 'indices': [75, 88]}]</td>\n      <td>irmi oksanaukka russia stole innocence pay sla...</td>\n      <td>2</td>\n    </tr>\n    <tr>\n      <th>...</th>\n      <td>...</td>\n      <td>...</td>\n      <td>...</td>\n      <td>...</td>\n      <td>...</td>\n      <td>...</td>\n      <td>...</td>\n      <td>...</td>\n    </tr>\n    <tr>\n      <th>394350</th>\n      <td>1.531425e+18</td>\n      <td>2022-05-30 23:59:17</td>\n      <td>en</td>\n      <td>None</td>\n      <td>@KyivIndependent Looters and thieves, the same...</td>\n      <td>[{'text': 'ArmUkraineNow', 'indices': [69, 83]...</td>\n      <td>kyivindependent looter thieve old russian army...</td>\n      <td>0</td>\n    </tr>\n    <tr>\n      <th>394351</th>\n      <td>1.531425e+18</td>\n      <td>2022-05-30 23:59:24</td>\n      <td>en</td>\n      <td>Germany</td>\n      <td>@JasminMuj Hard not to agree!\\n\\nBy appeasing ...</td>\n      <td>[{'text': 'Balkans', 'indices': [95, 103]}, {'...</td>\n      <td>jasminmuj hard agree appease andamp even endor...</td>\n      <td>3</td>\n    </tr>\n    <tr>\n      <th>394352</th>\n      <td>1.531425e+18</td>\n      <td>2022-05-30 23:59:37</td>\n      <td>en</td>\n      <td>Львів</td>\n      <td>Tonight #EUCO agreed a sixth package of sancti...</td>\n      <td>[{'text': 'EUCO', 'indices': [27, 32]}, {'text...</td>\n      <td>tonight euco agree sixth package sanction allo...</td>\n      <td>2</td>\n    </tr>\n    <tr>\n      <th>394353</th>\n      <td>1.531425e+18</td>\n      <td>2022-05-30 23:59:39</td>\n      <td>en</td>\n      <td>Los Angeles, CA</td>\n      <td>Early today in Paris.\\n\\nStay with Ukraine!  W...</td>\n      <td>[{'text': 'StandWithUkraine️', 'indices': [83,...</td>\n      <td>early today paris stay ukraine victorious stan...</td>\n      <td>2</td>\n    </tr>\n    <tr>\n      <th>394354</th>\n      <td>1.531425e+18</td>\n      <td>2022-05-30 23:59:40</td>\n      <td>en</td>\n      <td>None</td>\n      <td>In two weeks into Russian invasion of #Ukraine...</td>\n      <td>[{'text': 'Ukraine', 'indices': [55, 63]}]</td>\n      <td>two week russian invasion ukraine icc announce...</td>\n      <td>2</td>\n    </tr>\n  </tbody>\n</table>\n<p>394291 rows × 8 columns</p>\n</div>"
     },
     "execution_count": 15,
     "metadata": {},
     "output_type": "execute_result"
    }
   ],
   "source": [
    "unsupervised"
   ],
   "metadata": {
    "collapsed": false,
    "ExecuteTime": {
     "end_time": "2024-01-04T14:06:55.316834011Z",
     "start_time": "2024-01-04T14:06:55.307295355Z"
    }
   },
   "id": "6ced0fffa619a5cf",
   "execution_count": 15
  }
 ],
 "metadata": {
  "kernelspec": {
   "display_name": "Python 3",
   "language": "python",
   "name": "python3"
  },
  "language_info": {
   "codemirror_mode": {
    "name": "ipython",
    "version": 2
   },
   "file_extension": ".py",
   "mimetype": "text/x-python",
   "name": "python",
   "nbconvert_exporter": "python",
   "pygments_lexer": "ipython2",
   "version": "2.7.6"
  }
 },
 "nbformat": 4,
 "nbformat_minor": 5
}
